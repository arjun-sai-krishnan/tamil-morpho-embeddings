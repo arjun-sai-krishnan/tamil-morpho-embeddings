{
 "cells": [
  {
   "cell_type": "code",
   "execution_count": 2,
   "metadata": {},
   "outputs": [],
   "source": [
    "from evaluation.analogy_dataset import *"
   ]
  },
  {
   "cell_type": "code",
   "execution_count": 3,
   "metadata": {},
   "outputs": [],
   "source": [
    "import gensim\n",
    "from gensim.models import KeyedVectors"
   ]
  },
  {
   "cell_type": "code",
   "execution_count": 5,
   "metadata": {},
   "outputs": [],
   "source": [
    "PATH_FULL = 'evaluation/analogies/full_dataset/'\n",
    "PATH_OOV_REMOVED = 'evaluation/analogies/dataset_oov_removed_wiki/'"
   ]
  },
  {
   "cell_type": "markdown",
   "metadata": {},
   "source": [
    "# Assembling the full dataset"
   ]
  },
  {
   "cell_type": "code",
   "execution_count": null,
   "metadata": {},
   "outputs": [],
   "source": [
    "dset = extract_dset(PATH_FULL + 'pairs.txt')"
   ]
  },
  {
   "cell_type": "code",
   "execution_count": null,
   "metadata": {},
   "outputs": [],
   "source": [
    "construct_analogy_dset(dset, PATH_FULL + 'tetrads_sub_all.txt', PATH_FULL + 'tetrads_nonsub_all.txt')"
   ]
  },
  {
   "cell_type": "markdown",
   "metadata": {},
   "source": [
    "# Assembling the dataset with OOV words removed"
   ]
  },
  {
   "cell_type": "code",
   "execution_count": 3,
   "metadata": {},
   "outputs": [],
   "source": [
    "model = KeyedVectors.load_word2vec_format('models/morphoseg/model.txt')"
   ]
  },
  {
   "cell_type": "code",
   "execution_count": 14,
   "metadata": {},
   "outputs": [
    {
     "name": "stdout",
     "output_type": "stream",
     "text": [
      "Kicked out சின்னவர் சின்னவள்\n",
      "Kicked out ராட்சசன் ராட்சசி\n",
      "Kicked out சமையல்காரன் சமையல்காரி\n",
      "Kicked out தையல்காரன் தையல்காரி\n",
      "Kicked out வேட்டைக்காரன் வேட்டைக்காரி\n",
      "Kicked out பிச்சைக்காரன் பிச்சைக்காரி\n",
      "Kicked out காவல்காரன் காவல்காரி\n",
      "Kicked out தையல்காரர் தையல்\n",
      "Kicked out நெல்லி நெல்லிமரம்\n",
      "Kicked out கொய்யா கொய்யாமரம்\n",
      "Kicked out இலந்தை இலந்தைமரம்\n",
      "Kicked out வேண்டிக்க வேண்டுதல்\n",
      "Kicked out எழு விழு\n",
      "Kicked out சந்தோஷம் துக்கம்\n",
      "Kicked out கடவுலள் கடவுளை\n",
      "Kicked out விவசாயி விவசாயியை\n",
      "Kicked out அதிர்ஷ்டவசமான அதிர்ஷ்டவசமாக\n",
      "Kicked out தயக்கமான தயக்கமாக\n",
      "Kicked out கத்த கத்தினார்\n",
      "Kicked out உட்கார உட்கார்ந்தார்\n",
      "Kicked out நீந்த நீந்தினார்\n",
      "Kicked out கெட்டது கெட்டுபோனது\n",
      "Kicked out விழுந்தது விழுந்துபோனது\n",
      "Kicked out குரைந்தது குரைந்துபோனது\n",
      "Kicked out உருகியது உருகிபோனது\n",
      "Kicked out எரிந்தது எரிந்துபோனது\n",
      "Kicked out கொதித்தது கொதித்துபோனது\n",
      "Kicked out கிழிந்தது கிழிந்துபோனது\n",
      "Kicked out வெடித்தது வெடித்துபோனது\n",
      "Kicked out முடிந்தது முடிந்துபோனது\n",
      "Kicked out இறந்தது இறந்துபோனது\n",
      "Kicked out சிந்தியது சிந்திபோனது\n",
      "Kicked out கொட்டியது கொட்டிபோனது\n",
      "Kicked out நிறுத்தியது நிறுத்திபோனது\n",
      "Kicked out மாறியது மாறிபோனது\n",
      "Kicked out தீய்ந்தது தீய்ந்துபோனது\n",
      "Kicked out உடைந்தது உடைந்துபோனது\n",
      "Kicked out புதைந்தது புதைந்துபோனது\n",
      "Kicked out மறந்தது மறந்துபோனது\n",
      "Kicked out கலந்தது கலந்துபோனது\n",
      "Kicked out வறுத்தது வறுத்துபோனது\n",
      "Kicked out புரிந்தது புரிந்துபோனது\n",
      "Kicked out பொறித்தது பொறித்துபோனது\n",
      "Kicked out வர வந்தவர்களுக்காக\n",
      "Kicked out சாப்பிட சாப்பிட்டவர்களுக்காக\n",
      "Kicked out சமைக்க சமைத்தவர்களுக்காக\n",
      "Kicked out பார்க்க பார்த்தவர்களுக்காக\n",
      "Kicked out இணைய இணைந்தவர்களுக்காக\n",
      "Kicked out கொடுக்க கொடுத்தவர்களுக்காக\n",
      "Kicked out பேச பேசியவர்களுக்காக\n",
      "Kicked out சிரிக்க சிரித்தவர்களுக்காக\n",
      "Kicked out வெளியேற வெளியேறியவர்களுக்காக\n",
      "Kicked out செல்ல சென்றவர்களுக்காக\n",
      "Kicked out செய்ய செய்தவர்களுக்காக\n",
      "Kicked out சொல்ல சொன்னவர்களுக்காக\n",
      "Kicked out மறக்க மறந்தவர்களுக்காக\n",
      "Kicked out பிரிய பிரிந்தவர்களுக்காக\n",
      "Kicked out படிக்க படித்தவர்களுக்காக\n",
      "Kicked out மறந்தான் மறந்துவிட்டான்\n",
      "Kicked out பறந்தான் பறந்துவிட்டான்\n",
      "Kicked out திறந்தான் திறந்துவிட்டான்\n",
      "Kicked out பண்ணான் பண்ணிவிட்டான்\n",
      "Kicked out சைதான் சைதுவிட்டான்\n",
      "Kicked out பிரிந்தான் பிரிந்துவிட்டான்\n",
      "Kicked out வைத்தான் வைத்துவிட்டான்\n",
      "Kicked out படைத்தான் படைத்துவிட்டான்\n",
      "Kicked out அடைந்தான் அடைந்துவிட்டான்\n",
      "Kicked out சேர்ந்தான் சேர்ந்துவிட்டான்\n",
      "Kicked out போனான் போய்விட்டான்\n",
      "Kicked out சமைத்தான் சமைத்துவிட்டான்\n",
      "Kicked out குறைத்தான் குறைத்துவிட்டான்\n",
      "Kicked out எரித்தான் எரித்துவிட்டான்\n",
      "Kicked out கெடுத்தான் கெடுத்துவிட்டான்\n",
      "Kicked out கொளுத்தினான் கொளுத்திவிட்டான்\n",
      "Kicked out கொடுத்தான் கொடுத்துவிட்டான்\n",
      "Kicked out சாப்பிட்டான் சாப்பிட்டுவிட்டான்\n",
      "Kicked out பார்த்தான் பார்த்துவிட்டான்\n",
      "Kicked out எடுத்தான் எடுத்துவிட்டான்\n",
      "Kicked out மறந்தாள் மறந்துவிட்டாள்\n",
      "Kicked out பறந்தாள் பறந்துவிட்டாள்\n",
      "Kicked out திறந்தாள் திறந்துவிட்டாள்\n",
      "Kicked out பண்ணாள் பண்ணிவிட்டாள்\n",
      "Kicked out சைதாள் சைதுவிட்டாள்\n",
      "Kicked out பிரிந்தாள் பிரிந்துவிட்டாள்\n",
      "Kicked out வைத்தாள் வைத்துவிட்டாள்\n",
      "Kicked out படைத்தாள் படைத்துவிட்டாள்\n",
      "Kicked out அடைந்தாள் அடைந்துவிட்டாள்\n",
      "Kicked out சேர்ந்தாள் சேர்ந்துவிட்டாள்\n",
      "Kicked out போனாள் போய்விட்டாள்\n",
      "Kicked out சமைத்தாள் சமைத்துவிட்டாள்\n",
      "Kicked out குறைத்தாள் குறைத்துவிட்டாள்\n",
      "Kicked out எரித்தாள் எரித்துவிட்டாள்\n",
      "Kicked out கெடுத்தாள் கெடுத்துவிட்டாள்\n",
      "Kicked out கொளுத்தினாள் கொளுத்திவிட்டாள்\n",
      "Kicked out கொடுத்தாள் கொடுத்துவிட்டாள்\n",
      "Kicked out சாப்பிட்டாள் சாப்பிட்டுவிட்டாள்\n",
      "Kicked out எடுத்தாள் எடுத்துவிட்டாள்\n",
      "Kicked out மறந்தான் மறந்தாள்\n",
      "Kicked out பறந்தான் பறந்தாள்\n",
      "Kicked out திறந்தான் திறந்தாள்\n",
      "Kicked out பண்ணான் பண்ணாள்\n",
      "Kicked out சைதான் சைதாள்\n",
      "Kicked out பிரிந்தான் பிரிந்தாள்\n",
      "Kicked out படைத்தான் படைத்தாள்\n",
      "Kicked out சமைத்தான் சமைத்தாள்\n",
      "Kicked out குறைத்தான் குறைத்தாள்\n",
      "Kicked out எரித்தான் எரித்தாள்\n",
      "Kicked out கெடுத்தான் கெடுத்தாள்\n",
      "Kicked out கொளுத்தினான் கொளுத்தினாள்\n",
      "Kicked out சாப்பிட்டான் சாப்பிட்டாள்\n",
      "Kicked out எடுத்தான் எடுத்தாள்\n",
      "Kicked out எழுதினான் எழுதினாள்\n",
      "Kicked out விளயாடினான் விள்யாடினாள்\n",
      "Kicked out கத்தினான் கத்தினாள்\n",
      "Kicked out வணங்கினான் வணங்கினாள்\n",
      "Kicked out படுத்தினான் படுத்தினாள்\n",
      "Kicked out சிரித்தான் சிரித்தாள்\n",
      "Kicked out வர வந்தவள்\n",
      "Kicked out பாட பாடியவள்\n",
      "Kicked out ஆட ஆடியவள்\n",
      "Kicked out கத்த கத்தியவள்\n",
      "Kicked out அழைக்க அழைத்தவள்\n",
      "Kicked out சமைக்க சமைத்தவள்\n",
      "Kicked out எரிக்க எரித்தவள்\n",
      "Kicked out வறுக்க வறுத்தவள்\n",
      "Kicked out பாதுகாக்க பாதுகாத்தவள்\n",
      "Kicked out கழுவ கழுவியவள்\n",
      "Kicked out சிரிக்க சிரித்தவள்\n",
      "Kicked out துடைக்க துடைத்தவள்\n",
      "Kicked out பறக்க பறந்தவள்\n",
      "Kicked out நடக்க நடந்தவள்\n",
      "Kicked out சறுக்க சறுக்கியவள்\n",
      "Kicked out நடுங்க நடுங்கியவள்\n",
      "Kicked out திட்ட திட்டியவள்\n",
      "Kicked out ஓட ஓடியவள்\n",
      "Kicked out நிராகரிக்க நிராகரித்தவள்\n",
      "Kicked out பாட பாடியவன்\n",
      "Kicked out ஆட ஆடியவன்\n",
      "Kicked out கத்த கத்தியவன்\n",
      "Kicked out அழைக்க அழைத்தவன்\n",
      "Kicked out சமைக்க சமைத்தவன்\n",
      "Kicked out எரிக்க எரித்தவன்\n",
      "Kicked out வறுக்க வறுத்தவன்\n",
      "Kicked out பாதுகாக்க பாதுகாத்தவன்\n",
      "Kicked out கழுவ கழுவியவன்\n",
      "Kicked out சிரிக்க சிரித்தவன்\n",
      "Kicked out துடைக்க துடைத்தவன்\n",
      "Kicked out பறக்க பறந்தவன்\n",
      "Kicked out நடக்க நடந்தவன்\n",
      "Kicked out சறுக்க சறுக்கியவன்\n",
      "Kicked out நடுங்க நடுங்கியவன்\n",
      "Kicked out திட்ட திட்டியவன்\n",
      "Kicked out ஓட ஓடியவன்\n",
      "Kicked out நிராகரிக்க நிராகரித்தவன்\n",
      "Kicked out சமைக்க சமைக்கப்பட்டன\n",
      "Kicked out வறுத்தெடுக்க வறுத்தெடுக்கப்பட்டன\n",
      "Kicked out திருப்ப திருப்பப்பட்டன\n",
      "Kicked out கழுவ கழுவப்பட்டன\n",
      "Kicked out துடைக்க துடைக்கப்பட்டன\n",
      "Kicked out கீற கீறப்பட்டன\n",
      "Kicked out ஆதரிக்க ஆதரிக்கப்பட்டன\n",
      "Kicked out சொல்ல சொன்னது\n",
      "Kicked out கத்த கத்தியது\n",
      "Kicked out கலக்க கலக்கியது\n",
      "Kicked out உட்கார உட்கார்ந்தது\n",
      "Kicked out நீந்த நீந்தியது\n",
      "Kicked out நடனமாட நடனமாடியது\n",
      "Kicked 167 out of 426 pairs\n"
     ]
    }
   ],
   "source": [
    "# removing OOV words\n",
    "clean_dset(PATH_FULL + 'pairs.txt', PATH_OOV_REMOVED + 'pairs_cleaned.txt', model)"
   ]
  },
  {
   "cell_type": "code",
   "execution_count": 15,
   "metadata": {},
   "outputs": [],
   "source": [
    "dset = extract_dset(PATH_OOV_REMOVED + 'pairs_cleaned.txt')"
   ]
  },
  {
   "cell_type": "code",
   "execution_count": 16,
   "metadata": {},
   "outputs": [],
   "source": [
    "construct_analogy_dset(dset, PATH_OOV_REMOVED + 'tetrads_sub.txt', PATH_OOV_REMOVED + 'tetrads_nonsub.txt')"
   ]
  },
  {
   "cell_type": "code",
   "execution_count": 19,
   "metadata": {},
   "outputs": [
    {
     "name": "stdout",
     "output_type": "stream",
     "text": [
      "794\n"
     ]
    }
   ],
   "source": [
    "# in nonsub\n",
    "# REMOVE AFTER TESTING\n",
    "\n",
    "filein = open('final_analogies/tetrads_nonsub.txt', 'r')\n",
    "l = filein.readline()\n",
    "cnt = 0\n",
    "while l != '':\n",
    "    cnt += 1\n",
    "    l = filein.readline()\n",
    "    \n",
    "filein.close()\n",
    "\n",
    "print(cnt)"
   ]
  },
  {
   "cell_type": "code",
   "execution_count": 20,
   "metadata": {},
   "outputs": [
    {
     "name": "stdout",
     "output_type": "stream",
     "text": [
      "1576\n"
     ]
    }
   ],
   "source": [
    "# in sub\n",
    "# REMOVE AFTER TESTING\n",
    "\n",
    "filein = open('final_analogies/tetrads_sub.txt', 'r')\n",
    "l = filein.readline()\n",
    "cnt = 0\n",
    "while l != '':\n",
    "    cnt += 1\n",
    "    l = filein.readline()\n",
    "    \n",
    "filein.close()\n",
    "\n",
    "print(cnt)"
   ]
  },
  {
   "cell_type": "code",
   "execution_count": 21,
   "metadata": {},
   "outputs": [
    {
     "data": {
      "text/plain": [
       "2370"
      ]
     },
     "execution_count": 21,
     "metadata": {},
     "output_type": "execute_result"
    }
   ],
   "source": [
    "1576 + 794"
   ]
  },
  {
   "cell_type": "code",
   "execution_count": 24,
   "metadata": {},
   "outputs": [
    {
     "data": {
      "text/plain": [
       "2370.0"
      ]
     },
     "execution_count": 24,
     "metadata": {},
     "output_type": "execute_result"
    }
   ],
   "source": [
    "cnts = []\n",
    "for rel_id in dset:\n",
    "    cnts.append(sum([len(dset[rel_id][k]) for k in dset[rel_id]]))\n",
    "    \n",
    "sum([x * (x-1)/2 for x in cnts])"
   ]
  },
  {
   "cell_type": "code",
   "execution_count": 25,
   "metadata": {},
   "outputs": [
    {
     "name": "stdout",
     "output_type": "stream",
     "text": [
      "Id 0 train 5 test 2\n",
      "Id 1 train 265 test 89\n",
      "Id 3 train 4 test 2\n",
      "Id 4 train 39 test 13\n",
      "Id 5 train 2 test 1\n",
      "Id 9 train 3 test 2\n",
      "Id 10 train 102 test 34\n",
      "Id 11 train 128 test 43\n",
      "Id 12 train 142 test 48\n",
      "Id 13 train 263 test 88\n",
      "Id 18 train 33 test 12\n",
      "Id 21 train 90 test 30\n",
      "Id 22 train 102 test 34\n",
      "Id 0 train 168 test 56\n",
      "Id 1 train 60 test 21\n",
      "Id 2 train 21 test 7\n",
      "Id 3 train 6 test 3\n",
      "Id 4 train 134 test 45\n",
      "Id 5 train 5 test 2\n",
      "Id 6 train 21 test 7\n",
      "Id 7 train 4 test 2\n",
      "Id 8 train 4 test 2\n",
      "Id 9 train 169 test 57\n"
     ]
    }
   ],
   "source": [
    "# train/test split\n",
    "sub = extract_analogy_dset(PATH_OOV_REMOVED + 'tetrads_sub.txt')\n",
    "nonsub = extract_analogy_dset(PATH_OOV_REMOVED + 'tetrads_nonsub.txt')\n",
    "train_test_split(sub, PATH_OOV_REMOVED + 'train_sub.txt', PATH_OOV_REMOVED + 'test_sub.txt', p=0.75)\n",
    "train_test_split(nonsub, PATH_OOV_REMOVED + 'train_nonsub.txt', PATH_OOV_REMOVED + 'test_nonsub.txt', p=0.75)"
   ]
  },
  {
   "cell_type": "code",
   "execution_count": null,
   "metadata": {},
   "outputs": [],
   "source": []
  }
 ],
 "metadata": {
  "kernelspec": {
   "display_name": "Python 3",
   "language": "python",
   "name": "python3"
  },
  "language_info": {
   "codemirror_mode": {
    "name": "ipython",
    "version": 3
   },
   "file_extension": ".py",
   "mimetype": "text/x-python",
   "name": "python",
   "nbconvert_exporter": "python",
   "pygments_lexer": "ipython3",
   "version": "3.6.4"
  }
 },
 "nbformat": 4,
 "nbformat_minor": 2
}
