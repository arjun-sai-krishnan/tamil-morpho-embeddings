{
 "cells": [
  {
   "cell_type": "code",
   "execution_count": 1,
   "metadata": {},
   "outputs": [],
   "source": [
    "from evaluation import *\n",
    "from metaembeddings import *\n",
    "from analogy_dataset import *"
   ]
  },
  {
   "cell_type": "code",
   "execution_count": 2,
   "metadata": {},
   "outputs": [],
   "source": [
    "import gensim\n",
    "from gensim.models import KeyedVectors"
   ]
  },
  {
   "cell_type": "code",
   "execution_count": 3,
   "metadata": {},
   "outputs": [],
   "source": [
    "def remove_dummy_token(model):\n",
    "    X = model[model.wv.vocab][1:]\n",
    "    \n",
    "    wordlist = []\n",
    "    for i, word in enumerate(model.vocab):\n",
    "        if i == 0:\n",
    "            assert(word == '</s>')\n",
    "        else:\n",
    "            wordlist.append(word)\n",
    "            \n",
    "    newmodel = KeyedVectors(X.shape[1])\n",
    "    newmodel.add(wordlist, X)\n",
    "    return newmodel"
   ]
  },
  {
   "cell_type": "code",
   "execution_count": 4,
   "metadata": {},
   "outputs": [],
   "source": [
    "# this is the only thing to run in this section once dataset is constructed\n",
    "\n",
    "testsub = extract_analogy_dset('final_analogies/test_sub.txt')\n",
    "testnonsub = extract_analogy_dset('final_analogies/test_nonsub.txt')"
   ]
  },
  {
   "cell_type": "markdown",
   "metadata": {},
   "source": [
    "# Evaluating models on test set"
   ]
  },
  {
   "cell_type": "markdown",
   "metadata": {},
   "source": [
    "Vanilla skipgram, input"
   ]
  },
  {
   "cell_type": "code",
   "execution_count": 28,
   "metadata": {},
   "outputs": [
    {
     "name": "stderr",
     "output_type": "stream",
     "text": [
      "/Library/Frameworks/Python.framework/Versions/3.6/lib/python3.6/site-packages/ipykernel_launcher.py:2: DeprecationWarning: Call to deprecated `wv` (Attribute will be removed in 4.0.0, use self instead).\n",
      "  \n"
     ]
    },
    {
     "data": {
      "text/plain": [
       "225176"
      ]
     },
     "execution_count": 28,
     "metadata": {},
     "output_type": "execute_result"
    }
   ],
   "source": [
    "vanilla_input = KeyedVectors.load_word2vec_format('models/vanilla_skipgram_shuffled/model.txt')\n",
    "vanilla_input = remove_dummy_token(vanilla_input)\n",
    "len(vanilla_input.vocab)"
   ]
  },
  {
   "cell_type": "code",
   "execution_count": 29,
   "metadata": {},
   "outputs": [
    {
     "name": "stdout",
     "output_type": "stream",
     "text": [
      "Relation id: 0\n",
      "Relation example: சகோதரர் சகோதரி\n",
      "Score out of  8 analogies: 0.125\n",
      "Relation id: 1\n",
      "Relation example: அரசாங்கம் அரசாங்கத்தின்\n",
      "Score out of  356 analogies: 0.3539325842696629\n",
      "Relation id: 3\n",
      "Relation example: பலாப்பழம் பலாமரம்\n",
      "Score out of  8 analogies: 0.0\n",
      "Relation id: 4\n",
      "Relation example: எரிக்க எரித்தல்\n",
      "Score out of  52 analogies: 0.07692307692307693\n",
      "Relation id: 5\n",
      "Relation example: நாய் நாய்க்குட்டி\n",
      "Score out of  4 analogies: 0.0\n",
      "Relation id: 9\n",
      "Relation example: நம்பிக்கை அவநம்பிக்கை\n",
      "Score out of  8 analogies: 0.125\n",
      "Relation id: 10\n",
      "Relation example: தலைவர் தலைவரை\n",
      "Score out of  136 analogies: 0.3235294117647059\n",
      "Relation id: 11\n",
      "Relation example: கோயில் கோவிலுக்கு\n",
      "Score out of  172 analogies: 0.3023255813953488\n",
      "Relation id: 12\n",
      "Relation example: மெதுவான மெதுவாக\n",
      "Score out of  192 analogies: 0.2552083333333333\n",
      "Relation id: 13\n",
      "Relation example: பாட பாடினார்\n",
      "Score out of  352 analogies: 0.21306818181818182\n",
      "Relation id: 18\n",
      "Relation example: பாடினான் பாடினாள்\n",
      "Score out of  48 analogies: 0.08333333333333333\n",
      "Relation id: 21\n",
      "Relation example: அழிக்க அழிக்கப்பட்டன\n",
      "Score out of  120 analogies: 0.05\n",
      "Relation id: 22\n",
      "Relation example: பார்க்க பார்த்தது\n",
      "Score out of  136 analogies: 0.15441176470588236\n"
     ]
    },
    {
     "data": {
      "text/html": [
       "<div>\n",
       "<style scoped>\n",
       "    .dataframe tbody tr th:only-of-type {\n",
       "        vertical-align: middle;\n",
       "    }\n",
       "\n",
       "    .dataframe tbody tr th {\n",
       "        vertical-align: top;\n",
       "    }\n",
       "\n",
       "    .dataframe thead th {\n",
       "        text-align: right;\n",
       "    }\n",
       "</style>\n",
       "<table border=\"1\" class=\"dataframe\">\n",
       "  <thead>\n",
       "    <tr style=\"text-align: right;\">\n",
       "      <th></th>\n",
       "      <th>0</th>\n",
       "      <th>1</th>\n",
       "      <th>2</th>\n",
       "      <th>3</th>\n",
       "      <th>4</th>\n",
       "      <th>5</th>\n",
       "      <th>6</th>\n",
       "      <th>7</th>\n",
       "      <th>8</th>\n",
       "      <th>9</th>\n",
       "      <th>10</th>\n",
       "      <th>11</th>\n",
       "      <th>12</th>\n",
       "    </tr>\n",
       "  </thead>\n",
       "  <tbody>\n",
       "    <tr>\n",
       "      <th>0</th>\n",
       "      <td>0.125</td>\n",
       "      <td>0.353933</td>\n",
       "      <td>0.0</td>\n",
       "      <td>0.076923</td>\n",
       "      <td>0.0</td>\n",
       "      <td>0.125</td>\n",
       "      <td>0.323529</td>\n",
       "      <td>0.302326</td>\n",
       "      <td>0.255208</td>\n",
       "      <td>0.213068</td>\n",
       "      <td>0.083333</td>\n",
       "      <td>0.05</td>\n",
       "      <td>0.154412</td>\n",
       "    </tr>\n",
       "  </tbody>\n",
       "</table>\n",
       "</div>"
      ],
      "text/plain": [
       "       0         1    2         3    4      5         6         7         8  \\\n",
       "0  0.125  0.353933  0.0  0.076923  0.0  0.125  0.323529  0.302326  0.255208   \n",
       "\n",
       "          9        10    11        12  \n",
       "0  0.213068  0.083333  0.05  0.154412  "
      ]
     },
     "execution_count": 29,
     "metadata": {},
     "output_type": "execute_result"
    }
   ],
   "source": [
    "eval_on_analogy_dset(vanilla_input, testsub, 10)"
   ]
  },
  {
   "cell_type": "code",
   "execution_count": 30,
   "metadata": {},
   "outputs": [
    {
     "name": "stdout",
     "output_type": "stream",
     "text": [
      "Relation id: 0\n",
      "Relation example: மாமா மாமி\n",
      "Score out of  224 analogies: 0.4330357142857143\n",
      "Relation id: 1\n",
      "Relation example: அவள் அவளுடைய\n",
      "Score out of  84 analogies: 0.40476190476190477\n",
      "Relation id: 2\n",
      "Relation example: நூலாசிரியர் நூல்\n",
      "Score out of  28 analogies: 0.25\n",
      "Relation id: 3\n",
      "Relation example: மாம்பழம் மாமரம்\n",
      "Score out of  12 analogies: 0.0\n",
      "Relation id: 4\n",
      "Relation example: அழிக்க அழிவு\n",
      "Score out of  180 analogies: 0.044444444444444446\n",
      "Relation id: 5\n",
      "Relation example: கோழி கோழிக்குஞ்சு\n",
      "Score out of  8 analogies: 0.0\n",
      "Relation id: 6\n",
      "Relation example: தாத்தா பேரன்\n",
      "Score out of  28 analogies: 0.2857142857142857\n",
      "Relation id: 7\n",
      "Relation example: தந்தை மகள்\n",
      "Score out of  8 analogies: 0.375\n",
      "Relation id: 8\n",
      "Relation example: தாய் மகன்\n",
      "Score out of  8 analogies: 0.375\n",
      "Relation id: 9\n",
      "Relation example: நறுமணம் நாற்றம்\n",
      "Score out of  228 analogies: 0.18859649122807018\n"
     ]
    },
    {
     "data": {
      "text/html": [
       "<div>\n",
       "<style scoped>\n",
       "    .dataframe tbody tr th:only-of-type {\n",
       "        vertical-align: middle;\n",
       "    }\n",
       "\n",
       "    .dataframe tbody tr th {\n",
       "        vertical-align: top;\n",
       "    }\n",
       "\n",
       "    .dataframe thead th {\n",
       "        text-align: right;\n",
       "    }\n",
       "</style>\n",
       "<table border=\"1\" class=\"dataframe\">\n",
       "  <thead>\n",
       "    <tr style=\"text-align: right;\">\n",
       "      <th></th>\n",
       "      <th>0</th>\n",
       "      <th>1</th>\n",
       "      <th>2</th>\n",
       "      <th>3</th>\n",
       "      <th>4</th>\n",
       "      <th>5</th>\n",
       "      <th>6</th>\n",
       "      <th>7</th>\n",
       "      <th>8</th>\n",
       "      <th>9</th>\n",
       "    </tr>\n",
       "  </thead>\n",
       "  <tbody>\n",
       "    <tr>\n",
       "      <th>0</th>\n",
       "      <td>0.433036</td>\n",
       "      <td>0.404762</td>\n",
       "      <td>0.25</td>\n",
       "      <td>0.0</td>\n",
       "      <td>0.044444</td>\n",
       "      <td>0.0</td>\n",
       "      <td>0.285714</td>\n",
       "      <td>0.375</td>\n",
       "      <td>0.375</td>\n",
       "      <td>0.188596</td>\n",
       "    </tr>\n",
       "  </tbody>\n",
       "</table>\n",
       "</div>"
      ],
      "text/plain": [
       "          0         1     2    3         4    5         6      7      8  \\\n",
       "0  0.433036  0.404762  0.25  0.0  0.044444  0.0  0.285714  0.375  0.375   \n",
       "\n",
       "          9  \n",
       "0  0.188596  "
      ]
     },
     "execution_count": 30,
     "metadata": {},
     "output_type": "execute_result"
    }
   ],
   "source": [
    "eval_on_analogy_dset(vanilla_input, testnonsub, 10)"
   ]
  },
  {
   "cell_type": "markdown",
   "metadata": {},
   "source": [
    "Morpheme_skipgram_wholengrams, input"
   ]
  },
  {
   "cell_type": "code",
   "execution_count": 5,
   "metadata": {},
   "outputs": [
    {
     "name": "stderr",
     "output_type": "stream",
     "text": [
      "/Library/Frameworks/Python.framework/Versions/3.6/lib/python3.6/site-packages/ipykernel_launcher.py:2: DeprecationWarning: Call to deprecated `wv` (Attribute will be removed in 4.0.0, use self instead).\n",
      "  \n"
     ]
    },
    {
     "data": {
      "text/plain": [
       "225176"
      ]
     },
     "execution_count": 5,
     "metadata": {},
     "output_type": "execute_result"
    }
   ],
   "source": [
    "morph_input = KeyedVectors.load_word2vec_format('models/morpheme_skipgram_wholengrams/model.txt')\n",
    "morph_input = remove_dummy_token(morph_input)\n",
    "len(morph_input.vocab)"
   ]
  },
  {
   "cell_type": "code",
   "execution_count": 6,
   "metadata": {},
   "outputs": [
    {
     "name": "stdout",
     "output_type": "stream",
     "text": [
      "Relation id: 0\n",
      "Relation example: சகோதரர் சகோதரி\n",
      "Score out of  8 analogies: 0.375\n",
      "Relation id: 1\n",
      "Relation example: அரசாங்கம் அரசாங்கத்தின்\n",
      "Score out of  356 analogies: 0.8567415730337079\n",
      "Relation id: 3\n",
      "Relation example: பலாப்பழம் பலாமரம்\n",
      "Score out of  8 analogies: 0.625\n",
      "Relation id: 4\n",
      "Relation example: எரிக்க எரித்தல்\n",
      "Score out of  52 analogies: 0.6153846153846154\n",
      "Relation id: 5\n",
      "Relation example: நாய் நாய்க்குட்டி\n",
      "Score out of  4 analogies: 0.25\n",
      "Relation id: 9\n",
      "Relation example: நம்பிக்கை அவநம்பிக்கை\n",
      "Score out of  8 analogies: 0.5\n",
      "Relation id: 10\n",
      "Relation example: தலைவர் தலைவரை\n",
      "Score out of  136 analogies: 0.8014705882352942\n",
      "Relation id: 11\n",
      "Relation example: கோயில் கோவிலுக்கு\n",
      "Score out of  172 analogies: 0.7034883720930233\n",
      "Relation id: 12\n",
      "Relation example: மெதுவான மெதுவாக\n",
      "Score out of  192 analogies: 0.9791666666666666\n",
      "Relation id: 13\n",
      "Relation example: பாட பாடினார்\n",
      "Score out of  352 analogies: 0.5170454545454546\n",
      "Relation id: 18\n",
      "Relation example: பாடினான் பாடினாள்\n",
      "Score out of  48 analogies: 0.5625\n",
      "Relation id: 21\n",
      "Relation example: அழிக்க அழிக்கப்பட்டன\n",
      "Score out of  120 analogies: 0.7416666666666667\n",
      "Relation id: 22\n",
      "Relation example: பார்க்க பார்த்தது\n",
      "Score out of  136 analogies: 0.6617647058823529\n"
     ]
    },
    {
     "data": {
      "text/html": [
       "<div>\n",
       "<style scoped>\n",
       "    .dataframe tbody tr th:only-of-type {\n",
       "        vertical-align: middle;\n",
       "    }\n",
       "\n",
       "    .dataframe tbody tr th {\n",
       "        vertical-align: top;\n",
       "    }\n",
       "\n",
       "    .dataframe thead th {\n",
       "        text-align: right;\n",
       "    }\n",
       "</style>\n",
       "<table border=\"1\" class=\"dataframe\">\n",
       "  <thead>\n",
       "    <tr style=\"text-align: right;\">\n",
       "      <th></th>\n",
       "      <th>0</th>\n",
       "      <th>1</th>\n",
       "      <th>2</th>\n",
       "      <th>3</th>\n",
       "      <th>4</th>\n",
       "      <th>5</th>\n",
       "      <th>6</th>\n",
       "      <th>7</th>\n",
       "      <th>8</th>\n",
       "      <th>9</th>\n",
       "      <th>10</th>\n",
       "      <th>11</th>\n",
       "      <th>12</th>\n",
       "    </tr>\n",
       "  </thead>\n",
       "  <tbody>\n",
       "    <tr>\n",
       "      <th>0</th>\n",
       "      <td>0.375</td>\n",
       "      <td>0.856742</td>\n",
       "      <td>0.625</td>\n",
       "      <td>0.615385</td>\n",
       "      <td>0.25</td>\n",
       "      <td>0.5</td>\n",
       "      <td>0.801471</td>\n",
       "      <td>0.703488</td>\n",
       "      <td>0.979167</td>\n",
       "      <td>0.517045</td>\n",
       "      <td>0.5625</td>\n",
       "      <td>0.741667</td>\n",
       "      <td>0.661765</td>\n",
       "    </tr>\n",
       "  </tbody>\n",
       "</table>\n",
       "</div>"
      ],
      "text/plain": [
       "       0         1      2         3     4    5         6         7         8  \\\n",
       "0  0.375  0.856742  0.625  0.615385  0.25  0.5  0.801471  0.703488  0.979167   \n",
       "\n",
       "          9      10        11        12  \n",
       "0  0.517045  0.5625  0.741667  0.661765  "
      ]
     },
     "execution_count": 6,
     "metadata": {},
     "output_type": "execute_result"
    }
   ],
   "source": [
    "eval_on_analogy_dset(morph_input, testsub, 10)"
   ]
  },
  {
   "cell_type": "code",
   "execution_count": 7,
   "metadata": {},
   "outputs": [
    {
     "name": "stdout",
     "output_type": "stream",
     "text": [
      "Relation id: 0\n",
      "Relation example: மாமா மாமி\n",
      "Score out of  224 analogies: 0.07589285714285714\n",
      "Relation id: 1\n",
      "Relation example: அவள் அவளுடைய\n",
      "Score out of  84 analogies: 0.8214285714285714\n",
      "Relation id: 2\n",
      "Relation example: நூலாசிரியர் நூல்\n",
      "Score out of  28 analogies: 0.03571428571428571\n",
      "Relation id: 3\n",
      "Relation example: மாம்பழம் மாமரம்\n",
      "Score out of  12 analogies: 0.25\n",
      "Relation id: 4\n",
      "Relation example: அழிக்க அழிவு\n",
      "Score out of  180 analogies: 0.3055555555555556\n",
      "Relation id: 5\n",
      "Relation example: கோழி கோழிக்குஞ்சு\n",
      "Score out of  8 analogies: 0.125\n",
      "Relation id: 6\n",
      "Relation example: தாத்தா பேரன்\n",
      "Score out of  28 analogies: 0.0\n",
      "Relation id: 7\n",
      "Relation example: தந்தை மகள்\n",
      "Score out of  8 analogies: 0.0\n",
      "Relation id: 8\n",
      "Relation example: தாய் மகன்\n",
      "Score out of  8 analogies: 0.0\n",
      "Relation id: 9\n",
      "Relation example: நறுமணம் நாற்றம்\n",
      "Score out of  228 analogies: 0.05701754385964912\n"
     ]
    },
    {
     "data": {
      "text/html": [
       "<div>\n",
       "<style scoped>\n",
       "    .dataframe tbody tr th:only-of-type {\n",
       "        vertical-align: middle;\n",
       "    }\n",
       "\n",
       "    .dataframe tbody tr th {\n",
       "        vertical-align: top;\n",
       "    }\n",
       "\n",
       "    .dataframe thead th {\n",
       "        text-align: right;\n",
       "    }\n",
       "</style>\n",
       "<table border=\"1\" class=\"dataframe\">\n",
       "  <thead>\n",
       "    <tr style=\"text-align: right;\">\n",
       "      <th></th>\n",
       "      <th>0</th>\n",
       "      <th>1</th>\n",
       "      <th>2</th>\n",
       "      <th>3</th>\n",
       "      <th>4</th>\n",
       "      <th>5</th>\n",
       "      <th>6</th>\n",
       "      <th>7</th>\n",
       "      <th>8</th>\n",
       "      <th>9</th>\n",
       "    </tr>\n",
       "  </thead>\n",
       "  <tbody>\n",
       "    <tr>\n",
       "      <th>0</th>\n",
       "      <td>0.075893</td>\n",
       "      <td>0.821429</td>\n",
       "      <td>0.035714</td>\n",
       "      <td>0.25</td>\n",
       "      <td>0.305556</td>\n",
       "      <td>0.125</td>\n",
       "      <td>0.0</td>\n",
       "      <td>0.0</td>\n",
       "      <td>0.0</td>\n",
       "      <td>0.057018</td>\n",
       "    </tr>\n",
       "  </tbody>\n",
       "</table>\n",
       "</div>"
      ],
      "text/plain": [
       "          0         1         2     3         4      5    6    7    8  \\\n",
       "0  0.075893  0.821429  0.035714  0.25  0.305556  0.125  0.0  0.0  0.0   \n",
       "\n",
       "          9  \n",
       "0  0.057018  "
      ]
     },
     "execution_count": 7,
     "metadata": {},
     "output_type": "execute_result"
    }
   ],
   "source": [
    "eval_on_analogy_dset(morph_input, testnonsub, 10)"
   ]
  },
  {
   "cell_type": "markdown",
   "metadata": {},
   "source": [
    "Morpheme_skipgram_wholengrams, context"
   ]
  },
  {
   "cell_type": "code",
   "execution_count": 8,
   "metadata": {},
   "outputs": [
    {
     "name": "stderr",
     "output_type": "stream",
     "text": [
      "/Library/Frameworks/Python.framework/Versions/3.6/lib/python3.6/site-packages/ipykernel_launcher.py:2: DeprecationWarning: Call to deprecated `wv` (Attribute will be removed in 4.0.0, use self instead).\n",
      "  \n"
     ]
    },
    {
     "data": {
      "text/plain": [
       "225176"
      ]
     },
     "execution_count": 8,
     "metadata": {},
     "output_type": "execute_result"
    }
   ],
   "source": [
    "morph_ctx = KeyedVectors.load_word2vec_format('models/morpheme_skipgram_wholengrams/context.txt')\n",
    "morph_ctx = remove_dummy_token(morph_ctx)\n",
    "len(morph_ctx.vocab)"
   ]
  },
  {
   "cell_type": "code",
   "execution_count": 9,
   "metadata": {},
   "outputs": [
    {
     "name": "stdout",
     "output_type": "stream",
     "text": [
      "Relation id: 0\n",
      "Relation example: சகோதரர் சகோதரி\n",
      "Score out of  8 analogies: 0.375\n",
      "Relation id: 1\n",
      "Relation example: அரசாங்கம் அரசாங்கத்தின்\n",
      "Score out of  356 analogies: 0.27247191011235955\n",
      "Relation id: 3\n",
      "Relation example: பலாப்பழம் பலாமரம்\n",
      "Score out of  8 analogies: 0.0\n",
      "Relation id: 4\n",
      "Relation example: எரிக்க எரித்தல்\n",
      "Score out of  52 analogies: 0.019230769230769232\n",
      "Relation id: 5\n",
      "Relation example: நாய் நாய்க்குட்டி\n",
      "Score out of  4 analogies: 0.25\n",
      "Relation id: 9\n",
      "Relation example: நம்பிக்கை அவநம்பிக்கை\n",
      "Score out of  8 analogies: 0.125\n",
      "Relation id: 10\n",
      "Relation example: தலைவர் தலைவரை\n",
      "Score out of  136 analogies: 0.20588235294117646\n",
      "Relation id: 11\n",
      "Relation example: கோயில் கோவிலுக்கு\n",
      "Score out of  172 analogies: 0.3023255813953488\n",
      "Relation id: 12\n",
      "Relation example: மெதுவான மெதுவாக\n",
      "Score out of  192 analogies: 0.19791666666666666\n",
      "Relation id: 13\n",
      "Relation example: பாட பாடினார்\n",
      "Score out of  352 analogies: 0.1846590909090909\n",
      "Relation id: 18\n",
      "Relation example: பாடினான் பாடினாள்\n",
      "Score out of  48 analogies: 0.020833333333333332\n",
      "Relation id: 21\n",
      "Relation example: அழிக்க அழிக்கப்பட்டன\n",
      "Score out of  120 analogies: 0.041666666666666664\n",
      "Relation id: 22\n",
      "Relation example: பார்க்க பார்த்தது\n",
      "Score out of  136 analogies: 0.07352941176470588\n"
     ]
    },
    {
     "data": {
      "text/html": [
       "<div>\n",
       "<style scoped>\n",
       "    .dataframe tbody tr th:only-of-type {\n",
       "        vertical-align: middle;\n",
       "    }\n",
       "\n",
       "    .dataframe tbody tr th {\n",
       "        vertical-align: top;\n",
       "    }\n",
       "\n",
       "    .dataframe thead th {\n",
       "        text-align: right;\n",
       "    }\n",
       "</style>\n",
       "<table border=\"1\" class=\"dataframe\">\n",
       "  <thead>\n",
       "    <tr style=\"text-align: right;\">\n",
       "      <th></th>\n",
       "      <th>0</th>\n",
       "      <th>1</th>\n",
       "      <th>2</th>\n",
       "      <th>3</th>\n",
       "      <th>4</th>\n",
       "      <th>5</th>\n",
       "      <th>6</th>\n",
       "      <th>7</th>\n",
       "      <th>8</th>\n",
       "      <th>9</th>\n",
       "      <th>10</th>\n",
       "      <th>11</th>\n",
       "      <th>12</th>\n",
       "    </tr>\n",
       "  </thead>\n",
       "  <tbody>\n",
       "    <tr>\n",
       "      <th>0</th>\n",
       "      <td>0.375</td>\n",
       "      <td>0.272472</td>\n",
       "      <td>0.0</td>\n",
       "      <td>0.019231</td>\n",
       "      <td>0.25</td>\n",
       "      <td>0.125</td>\n",
       "      <td>0.205882</td>\n",
       "      <td>0.302326</td>\n",
       "      <td>0.197917</td>\n",
       "      <td>0.184659</td>\n",
       "      <td>0.020833</td>\n",
       "      <td>0.041667</td>\n",
       "      <td>0.073529</td>\n",
       "    </tr>\n",
       "  </tbody>\n",
       "</table>\n",
       "</div>"
      ],
      "text/plain": [
       "       0         1    2         3     4      5         6         7         8  \\\n",
       "0  0.375  0.272472  0.0  0.019231  0.25  0.125  0.205882  0.302326  0.197917   \n",
       "\n",
       "          9        10        11        12  \n",
       "0  0.184659  0.020833  0.041667  0.073529  "
      ]
     },
     "execution_count": 9,
     "metadata": {},
     "output_type": "execute_result"
    }
   ],
   "source": [
    "eval_on_analogy_dset(morph_ctx, testsub, 10)"
   ]
  },
  {
   "cell_type": "code",
   "execution_count": 10,
   "metadata": {},
   "outputs": [
    {
     "name": "stdout",
     "output_type": "stream",
     "text": [
      "Relation id: 0\n",
      "Relation example: மாமா மாமி\n",
      "Score out of  224 analogies: 0.40625\n",
      "Relation id: 1\n",
      "Relation example: அவள் அவளுடைய\n",
      "Score out of  84 analogies: 0.34523809523809523\n",
      "Relation id: 2\n",
      "Relation example: நூலாசிரியர் நூல்\n",
      "Score out of  28 analogies: 0.17857142857142858\n",
      "Relation id: 3\n",
      "Relation example: மாம்பழம் மாமரம்\n",
      "Score out of  12 analogies: 0.0\n",
      "Relation id: 4\n",
      "Relation example: அழிக்க அழிவு\n",
      "Score out of  180 analogies: 0.05\n",
      "Relation id: 5\n",
      "Relation example: கோழி கோழிக்குஞ்சு\n",
      "Score out of  8 analogies: 0.125\n",
      "Relation id: 6\n",
      "Relation example: தாத்தா பேரன்\n",
      "Score out of  28 analogies: 0.17857142857142858\n",
      "Relation id: 7\n",
      "Relation example: தந்தை மகள்\n",
      "Score out of  8 analogies: 0.25\n",
      "Relation id: 8\n",
      "Relation example: தாய் மகன்\n",
      "Score out of  8 analogies: 0.625\n",
      "Relation id: 9\n",
      "Relation example: நறுமணம் நாற்றம்\n",
      "Score out of  228 analogies: 0.13596491228070176\n"
     ]
    },
    {
     "data": {
      "text/html": [
       "<div>\n",
       "<style scoped>\n",
       "    .dataframe tbody tr th:only-of-type {\n",
       "        vertical-align: middle;\n",
       "    }\n",
       "\n",
       "    .dataframe tbody tr th {\n",
       "        vertical-align: top;\n",
       "    }\n",
       "\n",
       "    .dataframe thead th {\n",
       "        text-align: right;\n",
       "    }\n",
       "</style>\n",
       "<table border=\"1\" class=\"dataframe\">\n",
       "  <thead>\n",
       "    <tr style=\"text-align: right;\">\n",
       "      <th></th>\n",
       "      <th>0</th>\n",
       "      <th>1</th>\n",
       "      <th>2</th>\n",
       "      <th>3</th>\n",
       "      <th>4</th>\n",
       "      <th>5</th>\n",
       "      <th>6</th>\n",
       "      <th>7</th>\n",
       "      <th>8</th>\n",
       "      <th>9</th>\n",
       "    </tr>\n",
       "  </thead>\n",
       "  <tbody>\n",
       "    <tr>\n",
       "      <th>0</th>\n",
       "      <td>0.40625</td>\n",
       "      <td>0.345238</td>\n",
       "      <td>0.178571</td>\n",
       "      <td>0.0</td>\n",
       "      <td>0.05</td>\n",
       "      <td>0.125</td>\n",
       "      <td>0.178571</td>\n",
       "      <td>0.25</td>\n",
       "      <td>0.625</td>\n",
       "      <td>0.135965</td>\n",
       "    </tr>\n",
       "  </tbody>\n",
       "</table>\n",
       "</div>"
      ],
      "text/plain": [
       "         0         1         2    3     4      5         6     7      8  \\\n",
       "0  0.40625  0.345238  0.178571  0.0  0.05  0.125  0.178571  0.25  0.625   \n",
       "\n",
       "          9  \n",
       "0  0.135965  "
      ]
     },
     "execution_count": 10,
     "metadata": {},
     "output_type": "execute_result"
    }
   ],
   "source": [
    "eval_on_analogy_dset(morph_ctx, testnonsub, 10)"
   ]
  },
  {
   "cell_type": "markdown",
   "metadata": {},
   "source": [
    "Fasttext_wiki, input"
   ]
  },
  {
   "cell_type": "code",
   "execution_count": 5,
   "metadata": {},
   "outputs": [
    {
     "name": "stderr",
     "output_type": "stream",
     "text": [
      "/Library/Frameworks/Python.framework/Versions/3.6/lib/python3.6/site-packages/ipykernel_launcher.py:2: DeprecationWarning: Call to deprecated `wv` (Attribute will be removed in 4.0.0, use self instead).\n",
      "  \n"
     ]
    },
    {
     "data": {
      "text/plain": [
       "225176"
      ]
     },
     "execution_count": 5,
     "metadata": {},
     "output_type": "execute_result"
    }
   ],
   "source": [
    "ft_input = KeyedVectors.load_word2vec_format('models/fasttext_wiki/model.txt')\n",
    "ft_input = remove_dummy_token(ft_input)\n",
    "len(ft_input.vocab)"
   ]
  },
  {
   "cell_type": "code",
   "execution_count": 12,
   "metadata": {},
   "outputs": [
    {
     "name": "stdout",
     "output_type": "stream",
     "text": [
      "Relation id: 0\n",
      "Relation example: சகோதரர் சகோதரி\n",
      "Score out of  8 analogies: 0.75\n",
      "Relation id: 1\n",
      "Relation example: அரசாங்கம் அரசாங்கத்தின்\n",
      "Score out of  356 analogies: 0.6179775280898876\n",
      "Relation id: 3\n",
      "Relation example: பலாப்பழம் பலாமரம்\n",
      "Score out of  8 analogies: 0.75\n",
      "Relation id: 4\n",
      "Relation example: எரிக்க எரித்தல்\n",
      "Score out of  52 analogies: 0.5192307692307693\n",
      "Relation id: 5\n",
      "Relation example: நாய் நாய்க்குட்டி\n",
      "Score out of  4 analogies: 0.75\n",
      "Relation id: 9\n",
      "Relation example: நம்பிக்கை அவநம்பிக்கை\n",
      "Score out of  8 analogies: 1.0\n",
      "Relation id: 10\n",
      "Relation example: தலைவர் தலைவரை\n",
      "Score out of  136 analogies: 0.6323529411764706\n",
      "Relation id: 11\n",
      "Relation example: கோயில் கோவிலுக்கு\n",
      "Score out of  172 analogies: 0.5813953488372093\n",
      "Relation id: 12\n",
      "Relation example: மெதுவான மெதுவாக\n",
      "Score out of  192 analogies: 0.953125\n",
      "Relation id: 13\n",
      "Relation example: பாட பாடினார்\n",
      "Score out of  352 analogies: 0.5852272727272727\n",
      "Relation id: 18\n",
      "Relation example: பாடினான் பாடினாள்\n",
      "Score out of  48 analogies: 0.9791666666666666\n",
      "Relation id: 21\n",
      "Relation example: அழிக்க அழிக்கப்பட்டன\n",
      "Score out of  120 analogies: 0.8583333333333333\n",
      "Relation id: 22\n",
      "Relation example: பார்க்க பார்த்தது\n",
      "Score out of  136 analogies: 0.4117647058823529\n"
     ]
    },
    {
     "data": {
      "text/html": [
       "<div>\n",
       "<style scoped>\n",
       "    .dataframe tbody tr th:only-of-type {\n",
       "        vertical-align: middle;\n",
       "    }\n",
       "\n",
       "    .dataframe tbody tr th {\n",
       "        vertical-align: top;\n",
       "    }\n",
       "\n",
       "    .dataframe thead th {\n",
       "        text-align: right;\n",
       "    }\n",
       "</style>\n",
       "<table border=\"1\" class=\"dataframe\">\n",
       "  <thead>\n",
       "    <tr style=\"text-align: right;\">\n",
       "      <th></th>\n",
       "      <th>0</th>\n",
       "      <th>1</th>\n",
       "      <th>2</th>\n",
       "      <th>3</th>\n",
       "      <th>4</th>\n",
       "      <th>5</th>\n",
       "      <th>6</th>\n",
       "      <th>7</th>\n",
       "      <th>8</th>\n",
       "      <th>9</th>\n",
       "      <th>10</th>\n",
       "      <th>11</th>\n",
       "      <th>12</th>\n",
       "    </tr>\n",
       "  </thead>\n",
       "  <tbody>\n",
       "    <tr>\n",
       "      <th>0</th>\n",
       "      <td>0.75</td>\n",
       "      <td>0.617978</td>\n",
       "      <td>0.75</td>\n",
       "      <td>0.519231</td>\n",
       "      <td>0.75</td>\n",
       "      <td>1.0</td>\n",
       "      <td>0.632353</td>\n",
       "      <td>0.581395</td>\n",
       "      <td>0.953125</td>\n",
       "      <td>0.585227</td>\n",
       "      <td>0.979167</td>\n",
       "      <td>0.858333</td>\n",
       "      <td>0.411765</td>\n",
       "    </tr>\n",
       "  </tbody>\n",
       "</table>\n",
       "</div>"
      ],
      "text/plain": [
       "      0         1     2         3     4    5         6         7         8  \\\n",
       "0  0.75  0.617978  0.75  0.519231  0.75  1.0  0.632353  0.581395  0.953125   \n",
       "\n",
       "          9        10        11        12  \n",
       "0  0.585227  0.979167  0.858333  0.411765  "
      ]
     },
     "execution_count": 12,
     "metadata": {},
     "output_type": "execute_result"
    }
   ],
   "source": [
    "eval_on_analogy_dset(ft_input, testsub, 10)"
   ]
  },
  {
   "cell_type": "code",
   "execution_count": 13,
   "metadata": {},
   "outputs": [
    {
     "name": "stdout",
     "output_type": "stream",
     "text": [
      "Relation id: 0\n",
      "Relation example: மாமா மாமி\n",
      "Score out of  224 analogies: 0.40625\n",
      "Relation id: 1\n",
      "Relation example: அவள் அவளுடைய\n",
      "Score out of  84 analogies: 0.39285714285714285\n",
      "Relation id: 2\n",
      "Relation example: நூலாசிரியர் நூல்\n",
      "Score out of  28 analogies: 0.35714285714285715\n",
      "Relation id: 3\n",
      "Relation example: மாம்பழம் மாமரம்\n",
      "Score out of  12 analogies: 0.4166666666666667\n",
      "Relation id: 4\n",
      "Relation example: அழிக்க அழிவு\n",
      "Score out of  180 analogies: 0.2777777777777778\n",
      "Relation id: 5\n",
      "Relation example: கோழி கோழிக்குஞ்சு\n",
      "Score out of  8 analogies: 0.5\n",
      "Relation id: 6\n",
      "Relation example: தாத்தா பேரன்\n",
      "Score out of  28 analogies: 0.14285714285714285\n",
      "Relation id: 7\n",
      "Relation example: தந்தை மகள்\n",
      "Score out of  8 analogies: 0.25\n",
      "Relation id: 8\n",
      "Relation example: தாய் மகன்\n",
      "Score out of  8 analogies: 0.375\n",
      "Relation id: 9\n",
      "Relation example: நறுமணம் நாற்றம்\n",
      "Score out of  228 analogies: 0.2850877192982456\n"
     ]
    },
    {
     "data": {
      "text/html": [
       "<div>\n",
       "<style scoped>\n",
       "    .dataframe tbody tr th:only-of-type {\n",
       "        vertical-align: middle;\n",
       "    }\n",
       "\n",
       "    .dataframe tbody tr th {\n",
       "        vertical-align: top;\n",
       "    }\n",
       "\n",
       "    .dataframe thead th {\n",
       "        text-align: right;\n",
       "    }\n",
       "</style>\n",
       "<table border=\"1\" class=\"dataframe\">\n",
       "  <thead>\n",
       "    <tr style=\"text-align: right;\">\n",
       "      <th></th>\n",
       "      <th>0</th>\n",
       "      <th>1</th>\n",
       "      <th>2</th>\n",
       "      <th>3</th>\n",
       "      <th>4</th>\n",
       "      <th>5</th>\n",
       "      <th>6</th>\n",
       "      <th>7</th>\n",
       "      <th>8</th>\n",
       "      <th>9</th>\n",
       "    </tr>\n",
       "  </thead>\n",
       "  <tbody>\n",
       "    <tr>\n",
       "      <th>0</th>\n",
       "      <td>0.40625</td>\n",
       "      <td>0.392857</td>\n",
       "      <td>0.357143</td>\n",
       "      <td>0.416667</td>\n",
       "      <td>0.277778</td>\n",
       "      <td>0.5</td>\n",
       "      <td>0.142857</td>\n",
       "      <td>0.25</td>\n",
       "      <td>0.375</td>\n",
       "      <td>0.285088</td>\n",
       "    </tr>\n",
       "  </tbody>\n",
       "</table>\n",
       "</div>"
      ],
      "text/plain": [
       "         0         1         2         3         4    5         6     7  \\\n",
       "0  0.40625  0.392857  0.357143  0.416667  0.277778  0.5  0.142857  0.25   \n",
       "\n",
       "       8         9  \n",
       "0  0.375  0.285088  "
      ]
     },
     "execution_count": 13,
     "metadata": {},
     "output_type": "execute_result"
    }
   ],
   "source": [
    "eval_on_analogy_dset(ft_input, testnonsub, 10)"
   ]
  },
  {
   "cell_type": "markdown",
   "metadata": {},
   "source": [
    "Fasttext_wiki, context"
   ]
  },
  {
   "cell_type": "code",
   "execution_count": 6,
   "metadata": {},
   "outputs": [
    {
     "name": "stderr",
     "output_type": "stream",
     "text": [
      "/Library/Frameworks/Python.framework/Versions/3.6/lib/python3.6/site-packages/ipykernel_launcher.py:2: DeprecationWarning: Call to deprecated `wv` (Attribute will be removed in 4.0.0, use self instead).\n",
      "  \n"
     ]
    },
    {
     "data": {
      "text/plain": [
       "225176"
      ]
     },
     "execution_count": 6,
     "metadata": {},
     "output_type": "execute_result"
    }
   ],
   "source": [
    "ft_ctx = KeyedVectors.load_word2vec_format('models/fasttext_wiki/context.txt')\n",
    "ft_ctx = remove_dummy_token(ft_ctx)\n",
    "len(ft_ctx.vocab)"
   ]
  },
  {
   "cell_type": "code",
   "execution_count": 15,
   "metadata": {},
   "outputs": [
    {
     "name": "stdout",
     "output_type": "stream",
     "text": [
      "Relation id: 0\n",
      "Relation example: சகோதரர் சகோதரி\n",
      "Score out of  8 analogies: 0.375\n",
      "Relation id: 1\n",
      "Relation example: அரசாங்கம் அரசாங்கத்தின்\n",
      "Score out of  356 analogies: 0.37359550561797755\n",
      "Relation id: 3\n",
      "Relation example: பலாப்பழம் பலாமரம்\n",
      "Score out of  8 analogies: 0.0\n",
      "Relation id: 4\n",
      "Relation example: எரிக்க எரித்தல்\n",
      "Score out of  52 analogies: 0.038461538461538464\n",
      "Relation id: 5\n",
      "Relation example: நாய் நாய்க்குட்டி\n",
      "Score out of  4 analogies: 0.25\n",
      "Relation id: 9\n",
      "Relation example: நம்பிக்கை அவநம்பிக்கை\n",
      "Score out of  8 analogies: 0.125\n",
      "Relation id: 10\n",
      "Relation example: தலைவர் தலைவரை\n",
      "Score out of  136 analogies: 0.21323529411764705\n",
      "Relation id: 11\n",
      "Relation example: கோயில் கோவிலுக்கு\n",
      "Score out of  172 analogies: 0.28488372093023256\n",
      "Relation id: 12\n",
      "Relation example: மெதுவான மெதுவாக\n",
      "Score out of  192 analogies: 0.17708333333333334\n",
      "Relation id: 13\n",
      "Relation example: பாட பாடினார்\n",
      "Score out of  352 analogies: 0.17613636363636365\n",
      "Relation id: 18\n",
      "Relation example: பாடினான் பாடினாள்\n",
      "Score out of  48 analogies: 0.125\n",
      "Relation id: 21\n",
      "Relation example: அழிக்க அழிக்கப்பட்டன\n",
      "Score out of  120 analogies: 0.09166666666666666\n",
      "Relation id: 22\n",
      "Relation example: பார்க்க பார்த்தது\n",
      "Score out of  136 analogies: 0.09558823529411764\n"
     ]
    },
    {
     "data": {
      "text/html": [
       "<div>\n",
       "<style scoped>\n",
       "    .dataframe tbody tr th:only-of-type {\n",
       "        vertical-align: middle;\n",
       "    }\n",
       "\n",
       "    .dataframe tbody tr th {\n",
       "        vertical-align: top;\n",
       "    }\n",
       "\n",
       "    .dataframe thead th {\n",
       "        text-align: right;\n",
       "    }\n",
       "</style>\n",
       "<table border=\"1\" class=\"dataframe\">\n",
       "  <thead>\n",
       "    <tr style=\"text-align: right;\">\n",
       "      <th></th>\n",
       "      <th>0</th>\n",
       "      <th>1</th>\n",
       "      <th>2</th>\n",
       "      <th>3</th>\n",
       "      <th>4</th>\n",
       "      <th>5</th>\n",
       "      <th>6</th>\n",
       "      <th>7</th>\n",
       "      <th>8</th>\n",
       "      <th>9</th>\n",
       "      <th>10</th>\n",
       "      <th>11</th>\n",
       "      <th>12</th>\n",
       "    </tr>\n",
       "  </thead>\n",
       "  <tbody>\n",
       "    <tr>\n",
       "      <th>0</th>\n",
       "      <td>0.375</td>\n",
       "      <td>0.373596</td>\n",
       "      <td>0.0</td>\n",
       "      <td>0.038462</td>\n",
       "      <td>0.25</td>\n",
       "      <td>0.125</td>\n",
       "      <td>0.213235</td>\n",
       "      <td>0.284884</td>\n",
       "      <td>0.177083</td>\n",
       "      <td>0.176136</td>\n",
       "      <td>0.125</td>\n",
       "      <td>0.091667</td>\n",
       "      <td>0.095588</td>\n",
       "    </tr>\n",
       "  </tbody>\n",
       "</table>\n",
       "</div>"
      ],
      "text/plain": [
       "       0         1    2         3     4      5         6         7         8  \\\n",
       "0  0.375  0.373596  0.0  0.038462  0.25  0.125  0.213235  0.284884  0.177083   \n",
       "\n",
       "          9     10        11        12  \n",
       "0  0.176136  0.125  0.091667  0.095588  "
      ]
     },
     "execution_count": 15,
     "metadata": {},
     "output_type": "execute_result"
    }
   ],
   "source": [
    "eval_on_analogy_dset(ft_ctx, testsub, 10)"
   ]
  },
  {
   "cell_type": "code",
   "execution_count": 16,
   "metadata": {},
   "outputs": [
    {
     "name": "stdout",
     "output_type": "stream",
     "text": [
      "Relation id: 0\n",
      "Relation example: மாமா மாமி\n",
      "Score out of  224 analogies: 0.3794642857142857\n",
      "Relation id: 1\n",
      "Relation example: அவள் அவளுடைய\n",
      "Score out of  84 analogies: 0.38095238095238093\n",
      "Relation id: 2\n",
      "Relation example: நூலாசிரியர் நூல்\n",
      "Score out of  28 analogies: 0.25\n",
      "Relation id: 3\n",
      "Relation example: மாம்பழம் மாமரம்\n",
      "Score out of  12 analogies: 0.0\n",
      "Relation id: 4\n",
      "Relation example: அழிக்க அழிவு\n",
      "Score out of  180 analogies: 0.11666666666666667\n",
      "Relation id: 5\n",
      "Relation example: கோழி கோழிக்குஞ்சு\n",
      "Score out of  8 analogies: 0.125\n",
      "Relation id: 6\n",
      "Relation example: தாத்தா பேரன்\n",
      "Score out of  28 analogies: 0.32142857142857145\n",
      "Relation id: 7\n",
      "Relation example: தந்தை மகள்\n",
      "Score out of  8 analogies: 0.375\n",
      "Relation id: 8\n",
      "Relation example: தாய் மகன்\n",
      "Score out of  8 analogies: 0.5\n",
      "Relation id: 9\n",
      "Relation example: நறுமணம் நாற்றம்\n",
      "Score out of  228 analogies: 0.14035087719298245\n"
     ]
    },
    {
     "data": {
      "text/html": [
       "<div>\n",
       "<style scoped>\n",
       "    .dataframe tbody tr th:only-of-type {\n",
       "        vertical-align: middle;\n",
       "    }\n",
       "\n",
       "    .dataframe tbody tr th {\n",
       "        vertical-align: top;\n",
       "    }\n",
       "\n",
       "    .dataframe thead th {\n",
       "        text-align: right;\n",
       "    }\n",
       "</style>\n",
       "<table border=\"1\" class=\"dataframe\">\n",
       "  <thead>\n",
       "    <tr style=\"text-align: right;\">\n",
       "      <th></th>\n",
       "      <th>0</th>\n",
       "      <th>1</th>\n",
       "      <th>2</th>\n",
       "      <th>3</th>\n",
       "      <th>4</th>\n",
       "      <th>5</th>\n",
       "      <th>6</th>\n",
       "      <th>7</th>\n",
       "      <th>8</th>\n",
       "      <th>9</th>\n",
       "    </tr>\n",
       "  </thead>\n",
       "  <tbody>\n",
       "    <tr>\n",
       "      <th>0</th>\n",
       "      <td>0.379464</td>\n",
       "      <td>0.380952</td>\n",
       "      <td>0.25</td>\n",
       "      <td>0.0</td>\n",
       "      <td>0.116667</td>\n",
       "      <td>0.125</td>\n",
       "      <td>0.321429</td>\n",
       "      <td>0.375</td>\n",
       "      <td>0.5</td>\n",
       "      <td>0.140351</td>\n",
       "    </tr>\n",
       "  </tbody>\n",
       "</table>\n",
       "</div>"
      ],
      "text/plain": [
       "          0         1     2    3         4      5         6      7    8  \\\n",
       "0  0.379464  0.380952  0.25  0.0  0.116667  0.125  0.321429  0.375  0.5   \n",
       "\n",
       "          9  \n",
       "0  0.140351  "
      ]
     },
     "execution_count": 16,
     "metadata": {},
     "output_type": "execute_result"
    }
   ],
   "source": [
    "eval_on_analogy_dset(ft_ctx, testnonsub, 10)"
   ]
  },
  {
   "cell_type": "markdown",
   "metadata": {},
   "source": [
    "Merge(morpheme_skipgram_wholengrams input and output)"
   ]
  },
  {
   "cell_type": "code",
   "execution_count": 17,
   "metadata": {},
   "outputs": [],
   "source": [
    "morph_concat = concat(morph_input, morph_ctx)\n",
    "morph_reduced = dim_reduce(morph_concat, 300)"
   ]
  },
  {
   "cell_type": "code",
   "execution_count": 18,
   "metadata": {},
   "outputs": [
    {
     "name": "stdout",
     "output_type": "stream",
     "text": [
      "Relation id: 0\n",
      "Relation example: சகோதரர் சகோதரி\n",
      "Score out of  8 analogies: 0.875\n",
      "Relation id: 1\n",
      "Relation example: அரசாங்கம் அரசாங்கத்தின்\n",
      "Score out of  356 analogies: 0.8792134831460674\n",
      "Relation id: 3\n",
      "Relation example: பலாப்பழம் பலாமரம்\n",
      "Score out of  8 analogies: 0.625\n",
      "Relation id: 4\n",
      "Relation example: எரிக்க எரித்தல்\n",
      "Score out of  52 analogies: 0.7692307692307693\n",
      "Relation id: 5\n",
      "Relation example: நாய் நாய்க்குட்டி\n",
      "Score out of  4 analogies: 1.0\n",
      "Relation id: 9\n",
      "Relation example: நம்பிக்கை அவநம்பிக்கை\n",
      "Score out of  8 analogies: 0.75\n",
      "Relation id: 10\n",
      "Relation example: தலைவர் தலைவரை\n",
      "Score out of  136 analogies: 0.8897058823529411\n",
      "Relation id: 11\n",
      "Relation example: கோயில் கோவிலுக்கு\n",
      "Score out of  172 analogies: 0.8197674418604651\n",
      "Relation id: 12\n",
      "Relation example: மெதுவான மெதுவாக\n",
      "Score out of  192 analogies: 0.9947916666666666\n",
      "Relation id: 13\n",
      "Relation example: பாட பாடினார்\n",
      "Score out of  352 analogies: 0.8522727272727273\n",
      "Relation id: 18\n",
      "Relation example: பாடினான் பாடினாள்\n",
      "Score out of  48 analogies: 0.5625\n",
      "Relation id: 21\n",
      "Relation example: அழிக்க அழிக்கப்பட்டன\n",
      "Score out of  120 analogies: 0.9583333333333334\n",
      "Relation id: 22\n",
      "Relation example: பார்க்க பார்த்தது\n",
      "Score out of  136 analogies: 0.8235294117647058\n"
     ]
    },
    {
     "data": {
      "text/html": [
       "<div>\n",
       "<style scoped>\n",
       "    .dataframe tbody tr th:only-of-type {\n",
       "        vertical-align: middle;\n",
       "    }\n",
       "\n",
       "    .dataframe tbody tr th {\n",
       "        vertical-align: top;\n",
       "    }\n",
       "\n",
       "    .dataframe thead th {\n",
       "        text-align: right;\n",
       "    }\n",
       "</style>\n",
       "<table border=\"1\" class=\"dataframe\">\n",
       "  <thead>\n",
       "    <tr style=\"text-align: right;\">\n",
       "      <th></th>\n",
       "      <th>0</th>\n",
       "      <th>1</th>\n",
       "      <th>2</th>\n",
       "      <th>3</th>\n",
       "      <th>4</th>\n",
       "      <th>5</th>\n",
       "      <th>6</th>\n",
       "      <th>7</th>\n",
       "      <th>8</th>\n",
       "      <th>9</th>\n",
       "      <th>10</th>\n",
       "      <th>11</th>\n",
       "      <th>12</th>\n",
       "    </tr>\n",
       "  </thead>\n",
       "  <tbody>\n",
       "    <tr>\n",
       "      <th>0</th>\n",
       "      <td>0.875</td>\n",
       "      <td>0.879213</td>\n",
       "      <td>0.625</td>\n",
       "      <td>0.769231</td>\n",
       "      <td>1.0</td>\n",
       "      <td>0.75</td>\n",
       "      <td>0.889706</td>\n",
       "      <td>0.819767</td>\n",
       "      <td>0.994792</td>\n",
       "      <td>0.852273</td>\n",
       "      <td>0.5625</td>\n",
       "      <td>0.958333</td>\n",
       "      <td>0.823529</td>\n",
       "    </tr>\n",
       "  </tbody>\n",
       "</table>\n",
       "</div>"
      ],
      "text/plain": [
       "       0         1      2         3    4     5         6         7         8  \\\n",
       "0  0.875  0.879213  0.625  0.769231  1.0  0.75  0.889706  0.819767  0.994792   \n",
       "\n",
       "          9      10        11        12  \n",
       "0  0.852273  0.5625  0.958333  0.823529  "
      ]
     },
     "execution_count": 18,
     "metadata": {},
     "output_type": "execute_result"
    }
   ],
   "source": [
    "eval_on_analogy_dset(morph_reduced, testsub, 10)"
   ]
  },
  {
   "cell_type": "code",
   "execution_count": 19,
   "metadata": {},
   "outputs": [
    {
     "name": "stdout",
     "output_type": "stream",
     "text": [
      "Relation id: 0\n",
      "Relation example: மாமா மாமி\n",
      "Score out of  224 analogies: 0.32589285714285715\n",
      "Relation id: 1\n",
      "Relation example: அவள் அவளுடைய\n",
      "Score out of  84 analogies: 0.9047619047619048\n",
      "Relation id: 2\n",
      "Relation example: நூலாசிரியர் நூல்\n",
      "Score out of  28 analogies: 0.39285714285714285\n",
      "Relation id: 3\n",
      "Relation example: மாம்பழம் மாமரம்\n",
      "Score out of  12 analogies: 0.08333333333333333\n",
      "Relation id: 4\n",
      "Relation example: அழிக்க அழிவு\n",
      "Score out of  180 analogies: 0.4222222222222222\n",
      "Relation id: 5\n",
      "Relation example: கோழி கோழிக்குஞ்சு\n",
      "Score out of  8 analogies: 0.25\n",
      "Relation id: 6\n",
      "Relation example: தாத்தா பேரன்\n",
      "Score out of  28 analogies: 0.10714285714285714\n",
      "Relation id: 7\n",
      "Relation example: தந்தை மகள்\n",
      "Score out of  8 analogies: 0.125\n",
      "Relation id: 8\n",
      "Relation example: தாய் மகன்\n",
      "Score out of  8 analogies: 0.125\n",
      "Relation id: 9\n",
      "Relation example: நறுமணம் நாற்றம்\n",
      "Score out of  228 analogies: 0.2631578947368421\n"
     ]
    },
    {
     "data": {
      "text/html": [
       "<div>\n",
       "<style scoped>\n",
       "    .dataframe tbody tr th:only-of-type {\n",
       "        vertical-align: middle;\n",
       "    }\n",
       "\n",
       "    .dataframe tbody tr th {\n",
       "        vertical-align: top;\n",
       "    }\n",
       "\n",
       "    .dataframe thead th {\n",
       "        text-align: right;\n",
       "    }\n",
       "</style>\n",
       "<table border=\"1\" class=\"dataframe\">\n",
       "  <thead>\n",
       "    <tr style=\"text-align: right;\">\n",
       "      <th></th>\n",
       "      <th>0</th>\n",
       "      <th>1</th>\n",
       "      <th>2</th>\n",
       "      <th>3</th>\n",
       "      <th>4</th>\n",
       "      <th>5</th>\n",
       "      <th>6</th>\n",
       "      <th>7</th>\n",
       "      <th>8</th>\n",
       "      <th>9</th>\n",
       "    </tr>\n",
       "  </thead>\n",
       "  <tbody>\n",
       "    <tr>\n",
       "      <th>0</th>\n",
       "      <td>0.325893</td>\n",
       "      <td>0.904762</td>\n",
       "      <td>0.392857</td>\n",
       "      <td>0.083333</td>\n",
       "      <td>0.422222</td>\n",
       "      <td>0.25</td>\n",
       "      <td>0.107143</td>\n",
       "      <td>0.125</td>\n",
       "      <td>0.125</td>\n",
       "      <td>0.263158</td>\n",
       "    </tr>\n",
       "  </tbody>\n",
       "</table>\n",
       "</div>"
      ],
      "text/plain": [
       "          0         1         2         3         4     5         6      7  \\\n",
       "0  0.325893  0.904762  0.392857  0.083333  0.422222  0.25  0.107143  0.125   \n",
       "\n",
       "       8         9  \n",
       "0  0.125  0.263158  "
      ]
     },
     "execution_count": 19,
     "metadata": {},
     "output_type": "execute_result"
    }
   ],
   "source": [
    "eval_on_analogy_dset(morph_reduced, testnonsub, 10)"
   ]
  },
  {
   "cell_type": "code",
   "execution_count": 20,
   "metadata": {},
   "outputs": [
    {
     "name": "stdout",
     "output_type": "stream",
     "text": [
      "Relation id: 0\n",
      "Relation example: சகோதரர் சகோதரி\n",
      "Score out of  8 analogies: 0.75\n",
      "Relation id: 1\n",
      "Relation example: அரசாங்கம் அரசாங்கத்தின்\n",
      "Score out of  356 analogies: 0.8539325842696629\n",
      "Relation id: 3\n",
      "Relation example: பலாப்பழம் பலாமரம்\n",
      "Score out of  8 analogies: 0.75\n",
      "Relation id: 4\n",
      "Relation example: எரிக்க எரித்தல்\n",
      "Score out of  52 analogies: 0.6730769230769231\n",
      "Relation id: 5\n",
      "Relation example: நாய் நாய்க்குட்டி\n",
      "Score out of  4 analogies: 0.75\n",
      "Relation id: 9\n",
      "Relation example: நம்பிக்கை அவநம்பிக்கை\n",
      "Score out of  8 analogies: 0.75\n",
      "Relation id: 10\n",
      "Relation example: தலைவர் தலைவரை\n",
      "Score out of  136 analogies: 0.8235294117647058\n",
      "Relation id: 11\n",
      "Relation example: கோயில் கோவிலுக்கு\n",
      "Score out of  172 analogies: 0.7558139534883721\n",
      "Relation id: 12\n",
      "Relation example: மெதுவான மெதுவாக\n",
      "Score out of  192 analogies: 0.984375\n",
      "Relation id: 13\n",
      "Relation example: பாட பாடினார்\n",
      "Score out of  352 analogies: 0.7585227272727273\n",
      "Relation id: 18\n",
      "Relation example: பாடினான் பாடினாள்\n",
      "Score out of  48 analogies: 0.5625\n",
      "Relation id: 21\n",
      "Relation example: அழிக்க அழிக்கப்பட்டன\n",
      "Score out of  120 analogies: 0.7666666666666667\n",
      "Relation id: 22\n",
      "Relation example: பார்க்க பார்த்தது\n",
      "Score out of  136 analogies: 0.6764705882352942\n"
     ]
    },
    {
     "data": {
      "text/html": [
       "<div>\n",
       "<style scoped>\n",
       "    .dataframe tbody tr th:only-of-type {\n",
       "        vertical-align: middle;\n",
       "    }\n",
       "\n",
       "    .dataframe tbody tr th {\n",
       "        vertical-align: top;\n",
       "    }\n",
       "\n",
       "    .dataframe thead th {\n",
       "        text-align: right;\n",
       "    }\n",
       "</style>\n",
       "<table border=\"1\" class=\"dataframe\">\n",
       "  <thead>\n",
       "    <tr style=\"text-align: right;\">\n",
       "      <th></th>\n",
       "      <th>0</th>\n",
       "      <th>1</th>\n",
       "      <th>2</th>\n",
       "      <th>3</th>\n",
       "      <th>4</th>\n",
       "      <th>5</th>\n",
       "      <th>6</th>\n",
       "      <th>7</th>\n",
       "      <th>8</th>\n",
       "      <th>9</th>\n",
       "      <th>10</th>\n",
       "      <th>11</th>\n",
       "      <th>12</th>\n",
       "    </tr>\n",
       "  </thead>\n",
       "  <tbody>\n",
       "    <tr>\n",
       "      <th>0</th>\n",
       "      <td>0.75</td>\n",
       "      <td>0.853933</td>\n",
       "      <td>0.75</td>\n",
       "      <td>0.673077</td>\n",
       "      <td>0.75</td>\n",
       "      <td>0.75</td>\n",
       "      <td>0.823529</td>\n",
       "      <td>0.755814</td>\n",
       "      <td>0.984375</td>\n",
       "      <td>0.758523</td>\n",
       "      <td>0.5625</td>\n",
       "      <td>0.766667</td>\n",
       "      <td>0.676471</td>\n",
       "    </tr>\n",
       "  </tbody>\n",
       "</table>\n",
       "</div>"
      ],
      "text/plain": [
       "      0         1     2         3     4     5         6         7         8  \\\n",
       "0  0.75  0.853933  0.75  0.673077  0.75  0.75  0.823529  0.755814  0.984375   \n",
       "\n",
       "          9      10        11        12  \n",
       "0  0.758523  0.5625  0.766667  0.676471  "
      ]
     },
     "execution_count": 20,
     "metadata": {},
     "output_type": "execute_result"
    }
   ],
   "source": [
    "# concat\n",
    "eval_on_analogy_dset(morph_concat, testsub, 10)"
   ]
  },
  {
   "cell_type": "code",
   "execution_count": 21,
   "metadata": {},
   "outputs": [
    {
     "name": "stdout",
     "output_type": "stream",
     "text": [
      "Relation id: 0\n",
      "Relation example: மாமா மாமி\n",
      "Score out of  224 analogies: 0.30357142857142855\n",
      "Relation id: 1\n",
      "Relation example: அவள் அவளுடைய\n",
      "Score out of  84 analogies: 0.8690476190476191\n",
      "Relation id: 2\n",
      "Relation example: நூலாசிரியர் நூல்\n",
      "Score out of  28 analogies: 0.17857142857142858\n",
      "Relation id: 3\n",
      "Relation example: மாம்பழம் மாமரம்\n",
      "Score out of  12 analogies: 0.16666666666666666\n",
      "Relation id: 4\n",
      "Relation example: அழிக்க அழிவு\n",
      "Score out of  180 analogies: 0.36666666666666664\n",
      "Relation id: 5\n",
      "Relation example: கோழி கோழிக்குஞ்சு\n",
      "Score out of  8 analogies: 0.125\n",
      "Relation id: 6\n",
      "Relation example: தாத்தா பேரன்\n",
      "Score out of  28 analogies: 0.03571428571428571\n",
      "Relation id: 7\n",
      "Relation example: தந்தை மகள்\n",
      "Score out of  8 analogies: 0.125\n",
      "Relation id: 8\n",
      "Relation example: தாய் மகன்\n",
      "Score out of  8 analogies: 0.125\n",
      "Relation id: 9\n",
      "Relation example: நறுமணம் நாற்றம்\n",
      "Score out of  228 analogies: 0.18421052631578946\n"
     ]
    },
    {
     "data": {
      "text/html": [
       "<div>\n",
       "<style scoped>\n",
       "    .dataframe tbody tr th:only-of-type {\n",
       "        vertical-align: middle;\n",
       "    }\n",
       "\n",
       "    .dataframe tbody tr th {\n",
       "        vertical-align: top;\n",
       "    }\n",
       "\n",
       "    .dataframe thead th {\n",
       "        text-align: right;\n",
       "    }\n",
       "</style>\n",
       "<table border=\"1\" class=\"dataframe\">\n",
       "  <thead>\n",
       "    <tr style=\"text-align: right;\">\n",
       "      <th></th>\n",
       "      <th>0</th>\n",
       "      <th>1</th>\n",
       "      <th>2</th>\n",
       "      <th>3</th>\n",
       "      <th>4</th>\n",
       "      <th>5</th>\n",
       "      <th>6</th>\n",
       "      <th>7</th>\n",
       "      <th>8</th>\n",
       "      <th>9</th>\n",
       "    </tr>\n",
       "  </thead>\n",
       "  <tbody>\n",
       "    <tr>\n",
       "      <th>0</th>\n",
       "      <td>0.303571</td>\n",
       "      <td>0.869048</td>\n",
       "      <td>0.178571</td>\n",
       "      <td>0.166667</td>\n",
       "      <td>0.366667</td>\n",
       "      <td>0.125</td>\n",
       "      <td>0.035714</td>\n",
       "      <td>0.125</td>\n",
       "      <td>0.125</td>\n",
       "      <td>0.184211</td>\n",
       "    </tr>\n",
       "  </tbody>\n",
       "</table>\n",
       "</div>"
      ],
      "text/plain": [
       "          0         1         2         3         4      5         6      7  \\\n",
       "0  0.303571  0.869048  0.178571  0.166667  0.366667  0.125  0.035714  0.125   \n",
       "\n",
       "       8         9  \n",
       "0  0.125  0.184211  "
      ]
     },
     "execution_count": 21,
     "metadata": {},
     "output_type": "execute_result"
    }
   ],
   "source": [
    "eval_on_analogy_dset(morph_concat, testnonsub, 10)"
   ]
  },
  {
   "cell_type": "markdown",
   "metadata": {},
   "source": [
    "Merge(fasttext input and output)"
   ]
  },
  {
   "cell_type": "code",
   "execution_count": 7,
   "metadata": {},
   "outputs": [],
   "source": [
    "ft_concat = concat(ft_input, ft_ctx)"
   ]
  },
  {
   "cell_type": "code",
   "execution_count": 8,
   "metadata": {},
   "outputs": [
    {
     "name": "stdout",
     "output_type": "stream",
     "text": [
      "Relation id: 0\n",
      "Relation example: சகோதரர் சகோதரி\n",
      "Score out of  8 analogies: 0.625\n",
      "Relation id: 1\n",
      "Relation example: அரசாங்கம் அரசாங்கத்தின்\n",
      "Score out of  356 analogies: 0.6938202247191011\n",
      "Relation id: 3\n",
      "Relation example: பலாப்பழம் பலாமரம்\n",
      "Score out of  8 analogies: 0.5\n",
      "Relation id: 4\n",
      "Relation example: எரிக்க எரித்தல்\n",
      "Score out of  52 analogies: 0.46153846153846156\n",
      "Relation id: 5\n",
      "Relation example: நாய் நாய்க்குட்டி\n",
      "Score out of  4 analogies: 1.0\n",
      "Relation id: 9\n",
      "Relation example: நம்பிக்கை அவநம்பிக்கை\n",
      "Score out of  8 analogies: 0.875\n",
      "Relation id: 10\n",
      "Relation example: தலைவர் தலைவரை\n",
      "Score out of  136 analogies: 0.625\n",
      "Relation id: 11\n",
      "Relation example: கோயில் கோவிலுக்கு\n",
      "Score out of  172 analogies: 0.6686046511627907\n",
      "Relation id: 12\n",
      "Relation example: மெதுவான மெதுவாக\n",
      "Score out of  192 analogies: 0.953125\n",
      "Relation id: 13\n",
      "Relation example: பாட பாடினார்\n",
      "Score out of  352 analogies: 0.6647727272727273\n",
      "Relation id: 18\n",
      "Relation example: பாடினான் பாடினாள்\n",
      "Score out of  48 analogies: 0.9791666666666666\n",
      "Relation id: 21\n",
      "Relation example: அழிக்க அழிக்கப்பட்டன\n",
      "Score out of  120 analogies: 0.8666666666666667\n",
      "Relation id: 22\n",
      "Relation example: பார்க்க பார்த்தது\n",
      "Score out of  136 analogies: 0.5367647058823529\n"
     ]
    },
    {
     "data": {
      "text/html": [
       "<div>\n",
       "<style scoped>\n",
       "    .dataframe tbody tr th:only-of-type {\n",
       "        vertical-align: middle;\n",
       "    }\n",
       "\n",
       "    .dataframe tbody tr th {\n",
       "        vertical-align: top;\n",
       "    }\n",
       "\n",
       "    .dataframe thead th {\n",
       "        text-align: right;\n",
       "    }\n",
       "</style>\n",
       "<table border=\"1\" class=\"dataframe\">\n",
       "  <thead>\n",
       "    <tr style=\"text-align: right;\">\n",
       "      <th></th>\n",
       "      <th>0</th>\n",
       "      <th>1</th>\n",
       "      <th>2</th>\n",
       "      <th>3</th>\n",
       "      <th>4</th>\n",
       "      <th>5</th>\n",
       "      <th>6</th>\n",
       "      <th>7</th>\n",
       "      <th>8</th>\n",
       "      <th>9</th>\n",
       "      <th>10</th>\n",
       "      <th>11</th>\n",
       "      <th>12</th>\n",
       "    </tr>\n",
       "  </thead>\n",
       "  <tbody>\n",
       "    <tr>\n",
       "      <th>0</th>\n",
       "      <td>0.625</td>\n",
       "      <td>0.69382</td>\n",
       "      <td>0.5</td>\n",
       "      <td>0.461538</td>\n",
       "      <td>1.0</td>\n",
       "      <td>0.875</td>\n",
       "      <td>0.625</td>\n",
       "      <td>0.668605</td>\n",
       "      <td>0.953125</td>\n",
       "      <td>0.664773</td>\n",
       "      <td>0.979167</td>\n",
       "      <td>0.866667</td>\n",
       "      <td>0.536765</td>\n",
       "    </tr>\n",
       "  </tbody>\n",
       "</table>\n",
       "</div>"
      ],
      "text/plain": [
       "       0        1    2         3    4      5      6         7         8  \\\n",
       "0  0.625  0.69382  0.5  0.461538  1.0  0.875  0.625  0.668605  0.953125   \n",
       "\n",
       "          9        10        11        12  \n",
       "0  0.664773  0.979167  0.866667  0.536765  "
      ]
     },
     "execution_count": 8,
     "metadata": {},
     "output_type": "execute_result"
    }
   ],
   "source": [
    "eval_on_analogy_dset(ft_concat, testsub, 10)"
   ]
  },
  {
   "cell_type": "code",
   "execution_count": 9,
   "metadata": {},
   "outputs": [
    {
     "name": "stdout",
     "output_type": "stream",
     "text": [
      "Relation id: 0\n",
      "Relation example: மாமா மாமி\n",
      "Score out of  224 analogies: 0.5\n",
      "Relation id: 1\n",
      "Relation example: அவள் அவளுடைய\n",
      "Score out of  84 analogies: 0.4642857142857143\n",
      "Relation id: 2\n",
      "Relation example: நூலாசிரியர் நூல்\n",
      "Score out of  28 analogies: 0.4642857142857143\n",
      "Relation id: 3\n",
      "Relation example: மாம்பழம் மாமரம்\n",
      "Score out of  12 analogies: 0.4166666666666667\n",
      "Relation id: 4\n",
      "Relation example: அழிக்க அழிவு\n",
      "Score out of  180 analogies: 0.29444444444444445\n",
      "Relation id: 5\n",
      "Relation example: கோழி கோழிக்குஞ்சு\n",
      "Score out of  8 analogies: 0.25\n",
      "Relation id: 6\n",
      "Relation example: தாத்தா பேரன்\n",
      "Score out of  28 analogies: 0.32142857142857145\n",
      "Relation id: 7\n",
      "Relation example: தந்தை மகள்\n",
      "Score out of  8 analogies: 0.75\n",
      "Relation id: 8\n",
      "Relation example: தாய் மகன்\n",
      "Score out of  8 analogies: 0.5\n",
      "Relation id: 9\n",
      "Relation example: நறுமணம் நாற்றம்\n",
      "Score out of  228 analogies: 0.30701754385964913\n"
     ]
    },
    {
     "data": {
      "text/html": [
       "<div>\n",
       "<style scoped>\n",
       "    .dataframe tbody tr th:only-of-type {\n",
       "        vertical-align: middle;\n",
       "    }\n",
       "\n",
       "    .dataframe tbody tr th {\n",
       "        vertical-align: top;\n",
       "    }\n",
       "\n",
       "    .dataframe thead th {\n",
       "        text-align: right;\n",
       "    }\n",
       "</style>\n",
       "<table border=\"1\" class=\"dataframe\">\n",
       "  <thead>\n",
       "    <tr style=\"text-align: right;\">\n",
       "      <th></th>\n",
       "      <th>0</th>\n",
       "      <th>1</th>\n",
       "      <th>2</th>\n",
       "      <th>3</th>\n",
       "      <th>4</th>\n",
       "      <th>5</th>\n",
       "      <th>6</th>\n",
       "      <th>7</th>\n",
       "      <th>8</th>\n",
       "      <th>9</th>\n",
       "    </tr>\n",
       "  </thead>\n",
       "  <tbody>\n",
       "    <tr>\n",
       "      <th>0</th>\n",
       "      <td>0.5</td>\n",
       "      <td>0.464286</td>\n",
       "      <td>0.464286</td>\n",
       "      <td>0.416667</td>\n",
       "      <td>0.294444</td>\n",
       "      <td>0.25</td>\n",
       "      <td>0.321429</td>\n",
       "      <td>0.75</td>\n",
       "      <td>0.5</td>\n",
       "      <td>0.307018</td>\n",
       "    </tr>\n",
       "  </tbody>\n",
       "</table>\n",
       "</div>"
      ],
      "text/plain": [
       "     0         1         2         3         4     5         6     7    8  \\\n",
       "0  0.5  0.464286  0.464286  0.416667  0.294444  0.25  0.321429  0.75  0.5   \n",
       "\n",
       "          9  \n",
       "0  0.307018  "
      ]
     },
     "execution_count": 9,
     "metadata": {},
     "output_type": "execute_result"
    }
   ],
   "source": [
    "eval_on_analogy_dset(ft_concat, testnonsub, 10)"
   ]
  },
  {
   "cell_type": "code",
   "execution_count": 22,
   "metadata": {},
   "outputs": [],
   "source": [
    "ft_reduced = dim_reduce(ft_concat, 300)"
   ]
  },
  {
   "cell_type": "code",
   "execution_count": 23,
   "metadata": {},
   "outputs": [
    {
     "name": "stdout",
     "output_type": "stream",
     "text": [
      "Relation id: 0\n",
      "Relation example: சகோதரர் சகோதரி\n",
      "Score out of  8 analogies: 0.875\n",
      "Relation id: 1\n",
      "Relation example: அரசாங்கம் அரசாங்கத்தின்\n",
      "Score out of  356 analogies: 0.7556179775280899\n",
      "Relation id: 3\n",
      "Relation example: பலாப்பழம் பலாமரம்\n",
      "Score out of  8 analogies: 0.375\n",
      "Relation id: 4\n",
      "Relation example: எரிக்க எரித்தல்\n",
      "Score out of  52 analogies: 0.5961538461538461\n",
      "Relation id: 5\n",
      "Relation example: நாய் நாய்க்குட்டி\n",
      "Score out of  4 analogies: 1.0\n",
      "Relation id: 9\n",
      "Relation example: நம்பிக்கை அவநம்பிக்கை\n",
      "Score out of  8 analogies: 0.875\n",
      "Relation id: 10\n",
      "Relation example: தலைவர் தலைவரை\n",
      "Score out of  136 analogies: 0.7279411764705882\n",
      "Relation id: 11\n",
      "Relation example: கோயில் கோவிலுக்கு\n",
      "Score out of  172 analogies: 0.6918604651162791\n",
      "Relation id: 12\n",
      "Relation example: மெதுவான மெதுவாக\n",
      "Score out of  192 analogies: 0.984375\n",
      "Relation id: 13\n",
      "Relation example: பாட பாடினார்\n",
      "Score out of  352 analogies: 0.7443181818181818\n",
      "Relation id: 18\n",
      "Relation example: பாடினான் பாடினாள்\n",
      "Score out of  48 analogies: 0.9791666666666666\n",
      "Relation id: 21\n",
      "Relation example: அழிக்க அழிக்கப்பட்டன\n",
      "Score out of  120 analogies: 0.9333333333333333\n",
      "Relation id: 22\n",
      "Relation example: பார்க்க பார்த்தது\n",
      "Score out of  136 analogies: 0.7132352941176471\n"
     ]
    },
    {
     "data": {
      "text/html": [
       "<div>\n",
       "<style scoped>\n",
       "    .dataframe tbody tr th:only-of-type {\n",
       "        vertical-align: middle;\n",
       "    }\n",
       "\n",
       "    .dataframe tbody tr th {\n",
       "        vertical-align: top;\n",
       "    }\n",
       "\n",
       "    .dataframe thead th {\n",
       "        text-align: right;\n",
       "    }\n",
       "</style>\n",
       "<table border=\"1\" class=\"dataframe\">\n",
       "  <thead>\n",
       "    <tr style=\"text-align: right;\">\n",
       "      <th></th>\n",
       "      <th>0</th>\n",
       "      <th>1</th>\n",
       "      <th>2</th>\n",
       "      <th>3</th>\n",
       "      <th>4</th>\n",
       "      <th>5</th>\n",
       "      <th>6</th>\n",
       "      <th>7</th>\n",
       "      <th>8</th>\n",
       "      <th>9</th>\n",
       "      <th>10</th>\n",
       "      <th>11</th>\n",
       "      <th>12</th>\n",
       "    </tr>\n",
       "  </thead>\n",
       "  <tbody>\n",
       "    <tr>\n",
       "      <th>0</th>\n",
       "      <td>0.875</td>\n",
       "      <td>0.755618</td>\n",
       "      <td>0.375</td>\n",
       "      <td>0.596154</td>\n",
       "      <td>1.0</td>\n",
       "      <td>0.875</td>\n",
       "      <td>0.727941</td>\n",
       "      <td>0.69186</td>\n",
       "      <td>0.984375</td>\n",
       "      <td>0.744318</td>\n",
       "      <td>0.979167</td>\n",
       "      <td>0.933333</td>\n",
       "      <td>0.713235</td>\n",
       "    </tr>\n",
       "  </tbody>\n",
       "</table>\n",
       "</div>"
      ],
      "text/plain": [
       "       0         1      2         3    4      5         6        7         8  \\\n",
       "0  0.875  0.755618  0.375  0.596154  1.0  0.875  0.727941  0.69186  0.984375   \n",
       "\n",
       "          9        10        11        12  \n",
       "0  0.744318  0.979167  0.933333  0.713235  "
      ]
     },
     "execution_count": 23,
     "metadata": {},
     "output_type": "execute_result"
    }
   ],
   "source": [
    "eval_on_analogy_dset(ft_reduced, testsub, 10)"
   ]
  },
  {
   "cell_type": "code",
   "execution_count": 24,
   "metadata": {},
   "outputs": [
    {
     "name": "stdout",
     "output_type": "stream",
     "text": [
      "Relation id: 0\n",
      "Relation example: மாமா மாமி\n",
      "Score out of  224 analogies: 0.5625\n",
      "Relation id: 1\n",
      "Relation example: அவள் அவளுடைய\n",
      "Score out of  84 analogies: 0.5\n",
      "Relation id: 2\n",
      "Relation example: நூலாசிரியர் நூல்\n",
      "Score out of  28 analogies: 0.5714285714285714\n",
      "Relation id: 3\n",
      "Relation example: மாம்பழம் மாமரம்\n",
      "Score out of  12 analogies: 0.3333333333333333\n",
      "Relation id: 4\n",
      "Relation example: அழிக்க அழிவு\n",
      "Score out of  180 analogies: 0.4166666666666667\n",
      "Relation id: 5\n",
      "Relation example: கோழி கோழிக்குஞ்சு\n",
      "Score out of  8 analogies: 0.25\n",
      "Relation id: 6\n",
      "Relation example: தாத்தா பேரன்\n",
      "Score out of  28 analogies: 0.39285714285714285\n",
      "Relation id: 7\n",
      "Relation example: தந்தை மகள்\n",
      "Score out of  8 analogies: 0.75\n",
      "Relation id: 8\n",
      "Relation example: தாய் மகன்\n",
      "Score out of  8 analogies: 0.625\n",
      "Relation id: 9\n",
      "Relation example: நறுமணம் நாற்றம்\n",
      "Score out of  228 analogies: 0.34649122807017546\n"
     ]
    },
    {
     "data": {
      "text/html": [
       "<div>\n",
       "<style scoped>\n",
       "    .dataframe tbody tr th:only-of-type {\n",
       "        vertical-align: middle;\n",
       "    }\n",
       "\n",
       "    .dataframe tbody tr th {\n",
       "        vertical-align: top;\n",
       "    }\n",
       "\n",
       "    .dataframe thead th {\n",
       "        text-align: right;\n",
       "    }\n",
       "</style>\n",
       "<table border=\"1\" class=\"dataframe\">\n",
       "  <thead>\n",
       "    <tr style=\"text-align: right;\">\n",
       "      <th></th>\n",
       "      <th>0</th>\n",
       "      <th>1</th>\n",
       "      <th>2</th>\n",
       "      <th>3</th>\n",
       "      <th>4</th>\n",
       "      <th>5</th>\n",
       "      <th>6</th>\n",
       "      <th>7</th>\n",
       "      <th>8</th>\n",
       "      <th>9</th>\n",
       "    </tr>\n",
       "  </thead>\n",
       "  <tbody>\n",
       "    <tr>\n",
       "      <th>0</th>\n",
       "      <td>0.5625</td>\n",
       "      <td>0.5</td>\n",
       "      <td>0.571429</td>\n",
       "      <td>0.333333</td>\n",
       "      <td>0.416667</td>\n",
       "      <td>0.25</td>\n",
       "      <td>0.392857</td>\n",
       "      <td>0.75</td>\n",
       "      <td>0.625</td>\n",
       "      <td>0.346491</td>\n",
       "    </tr>\n",
       "  </tbody>\n",
       "</table>\n",
       "</div>"
      ],
      "text/plain": [
       "        0    1         2         3         4     5         6     7      8  \\\n",
       "0  0.5625  0.5  0.571429  0.333333  0.416667  0.25  0.392857  0.75  0.625   \n",
       "\n",
       "          9  \n",
       "0  0.346491  "
      ]
     },
     "execution_count": 24,
     "metadata": {},
     "output_type": "execute_result"
    }
   ],
   "source": [
    "eval_on_analogy_dset(ft_reduced, testnonsub, 10)"
   ]
  },
  {
   "cell_type": "markdown",
   "metadata": {},
   "source": [
    "TripleMerge(morpheme_skipgram_wholengrams input and output, fasttext input and output)"
   ]
  },
  {
   "cell_type": "code",
   "execution_count": 25,
   "metadata": {},
   "outputs": [],
   "source": [
    "both_concat = concat(morph_reduced, ft_reduced)\n",
    "both_reduced = dim_reduce(both_concat, 300)"
   ]
  },
  {
   "cell_type": "code",
   "execution_count": 26,
   "metadata": {},
   "outputs": [
    {
     "name": "stdout",
     "output_type": "stream",
     "text": [
      "Relation id: 0\n",
      "Relation example: சகோதரர் சகோதரி\n",
      "Score out of  8 analogies: 0.875\n",
      "Relation id: 1\n",
      "Relation example: அரசாங்கம் அரசாங்கத்தின்\n",
      "Score out of  356 analogies: 0.9129213483146067\n",
      "Relation id: 3\n",
      "Relation example: பலாப்பழம் பலாமரம்\n",
      "Score out of  8 analogies: 0.75\n",
      "Relation id: 4\n",
      "Relation example: எரிக்க எரித்தல்\n",
      "Score out of  52 analogies: 0.8846153846153846\n",
      "Relation id: 5\n",
      "Relation example: நாய் நாய்க்குட்டி\n",
      "Score out of  4 analogies: 1.0\n",
      "Relation id: 9\n",
      "Relation example: நம்பிக்கை அவநம்பிக்கை\n",
      "Score out of  8 analogies: 0.875\n",
      "Relation id: 10\n",
      "Relation example: தலைவர் தலைவரை\n",
      "Score out of  136 analogies: 0.8897058823529411\n",
      "Relation id: 11\n",
      "Relation example: கோயில் கோவிலுக்கு\n",
      "Score out of  172 analogies: 0.7965116279069767\n",
      "Relation id: 12\n",
      "Relation example: மெதுவான மெதுவாக\n",
      "Score out of  192 analogies: 1.0\n",
      "Relation id: 13\n",
      "Relation example: பாட பாடினார்\n",
      "Score out of  352 analogies: 0.9204545454545454\n",
      "Relation id: 18\n",
      "Relation example: பாடினான் பாடினாள்\n",
      "Score out of  48 analogies: 0.9166666666666666\n",
      "Relation id: 21\n",
      "Relation example: அழிக்க அழிக்கப்பட்டன\n",
      "Score out of  120 analogies: 0.9916666666666667\n",
      "Relation id: 22\n",
      "Relation example: பார்க்க பார்த்தது\n",
      "Score out of  136 analogies: 0.9191176470588235\n"
     ]
    },
    {
     "data": {
      "text/html": [
       "<div>\n",
       "<style scoped>\n",
       "    .dataframe tbody tr th:only-of-type {\n",
       "        vertical-align: middle;\n",
       "    }\n",
       "\n",
       "    .dataframe tbody tr th {\n",
       "        vertical-align: top;\n",
       "    }\n",
       "\n",
       "    .dataframe thead th {\n",
       "        text-align: right;\n",
       "    }\n",
       "</style>\n",
       "<table border=\"1\" class=\"dataframe\">\n",
       "  <thead>\n",
       "    <tr style=\"text-align: right;\">\n",
       "      <th></th>\n",
       "      <th>0</th>\n",
       "      <th>1</th>\n",
       "      <th>2</th>\n",
       "      <th>3</th>\n",
       "      <th>4</th>\n",
       "      <th>5</th>\n",
       "      <th>6</th>\n",
       "      <th>7</th>\n",
       "      <th>8</th>\n",
       "      <th>9</th>\n",
       "      <th>10</th>\n",
       "      <th>11</th>\n",
       "      <th>12</th>\n",
       "    </tr>\n",
       "  </thead>\n",
       "  <tbody>\n",
       "    <tr>\n",
       "      <th>0</th>\n",
       "      <td>0.875</td>\n",
       "      <td>0.912921</td>\n",
       "      <td>0.75</td>\n",
       "      <td>0.884615</td>\n",
       "      <td>1.0</td>\n",
       "      <td>0.875</td>\n",
       "      <td>0.889706</td>\n",
       "      <td>0.796512</td>\n",
       "      <td>1.0</td>\n",
       "      <td>0.920455</td>\n",
       "      <td>0.916667</td>\n",
       "      <td>0.991667</td>\n",
       "      <td>0.919118</td>\n",
       "    </tr>\n",
       "  </tbody>\n",
       "</table>\n",
       "</div>"
      ],
      "text/plain": [
       "       0         1     2         3    4      5         6         7    8  \\\n",
       "0  0.875  0.912921  0.75  0.884615  1.0  0.875  0.889706  0.796512  1.0   \n",
       "\n",
       "          9        10        11        12  \n",
       "0  0.920455  0.916667  0.991667  0.919118  "
      ]
     },
     "execution_count": 26,
     "metadata": {},
     "output_type": "execute_result"
    }
   ],
   "source": [
    "eval_on_analogy_dset(both_reduced, testsub, 10)"
   ]
  },
  {
   "cell_type": "code",
   "execution_count": 27,
   "metadata": {},
   "outputs": [
    {
     "name": "stdout",
     "output_type": "stream",
     "text": [
      "Relation id: 0\n",
      "Relation example: மாமா மாமி\n",
      "Score out of  224 analogies: 0.5133928571428571\n",
      "Relation id: 1\n",
      "Relation example: அவள் அவளுடைய\n",
      "Score out of  84 analogies: 0.9166666666666666\n",
      "Relation id: 2\n",
      "Relation example: நூலாசிரியர் நூல்\n",
      "Score out of  28 analogies: 0.6428571428571429\n",
      "Relation id: 3\n",
      "Relation example: மாம்பழம் மாமரம்\n",
      "Score out of  12 analogies: 0.25\n",
      "Relation id: 4\n",
      "Relation example: அழிக்க அழிவு\n",
      "Score out of  180 analogies: 0.5222222222222223\n",
      "Relation id: 5\n",
      "Relation example: கோழி கோழிக்குஞ்சு\n",
      "Score out of  8 analogies: 0.5\n",
      "Relation id: 6\n",
      "Relation example: தாத்தா பேரன்\n",
      "Score out of  28 analogies: 0.2857142857142857\n",
      "Relation id: 7\n",
      "Relation example: தந்தை மகள்\n",
      "Score out of  8 analogies: 0.625\n",
      "Relation id: 8\n",
      "Relation example: தாய் மகன்\n",
      "Score out of  8 analogies: 0.25\n",
      "Relation id: 9\n",
      "Relation example: நறுமணம் நாற்றம்\n",
      "Score out of  228 analogies: 0.34649122807017546\n"
     ]
    },
    {
     "data": {
      "text/html": [
       "<div>\n",
       "<style scoped>\n",
       "    .dataframe tbody tr th:only-of-type {\n",
       "        vertical-align: middle;\n",
       "    }\n",
       "\n",
       "    .dataframe tbody tr th {\n",
       "        vertical-align: top;\n",
       "    }\n",
       "\n",
       "    .dataframe thead th {\n",
       "        text-align: right;\n",
       "    }\n",
       "</style>\n",
       "<table border=\"1\" class=\"dataframe\">\n",
       "  <thead>\n",
       "    <tr style=\"text-align: right;\">\n",
       "      <th></th>\n",
       "      <th>0</th>\n",
       "      <th>1</th>\n",
       "      <th>2</th>\n",
       "      <th>3</th>\n",
       "      <th>4</th>\n",
       "      <th>5</th>\n",
       "      <th>6</th>\n",
       "      <th>7</th>\n",
       "      <th>8</th>\n",
       "      <th>9</th>\n",
       "    </tr>\n",
       "  </thead>\n",
       "  <tbody>\n",
       "    <tr>\n",
       "      <th>0</th>\n",
       "      <td>0.513393</td>\n",
       "      <td>0.916667</td>\n",
       "      <td>0.642857</td>\n",
       "      <td>0.25</td>\n",
       "      <td>0.522222</td>\n",
       "      <td>0.5</td>\n",
       "      <td>0.285714</td>\n",
       "      <td>0.625</td>\n",
       "      <td>0.25</td>\n",
       "      <td>0.346491</td>\n",
       "    </tr>\n",
       "  </tbody>\n",
       "</table>\n",
       "</div>"
      ],
      "text/plain": [
       "          0         1         2     3         4    5         6      7     8  \\\n",
       "0  0.513393  0.916667  0.642857  0.25  0.522222  0.5  0.285714  0.625  0.25   \n",
       "\n",
       "          9  \n",
       "0  0.346491  "
      ]
     },
     "execution_count": 27,
     "metadata": {},
     "output_type": "execute_result"
    }
   ],
   "source": [
    "eval_on_analogy_dset(both_reduced, testnonsub, 10)"
   ]
  },
  {
   "cell_type": "markdown",
   "metadata": {},
   "source": [
    "Sanity checks"
   ]
  },
  {
   "cell_type": "code",
   "execution_count": 32,
   "metadata": {},
   "outputs": [],
   "source": [
    "trainsub = extract_analogy_dset('final_analogies/train_sub.txt')\n",
    "trainnonsub = extract_analogy_dset('final_analogies/train_nonsub.txt')"
   ]
  },
  {
   "cell_type": "code",
   "execution_count": 45,
   "metadata": {},
   "outputs": [
    {
     "name": "stdout",
     "output_type": "stream",
     "text": [
      "Relation id: 0\n",
      "Relation example: மகன் மகள்\n",
      "Score out of  20 analogies: 0.8\n",
      "Relation id: 1\n",
      "Relation example: தலை தலையின்\n",
      "Score out of  1060 analogies: 0.3594339622641509\n",
      "Relation id: 3\n",
      "Relation example: வாழைப்பழம் வாழைமரம்\n",
      "Score out of  16 analogies: 0.0\n",
      "Relation id: 4\n",
      "Relation example: சமைக்க சமையல்\n",
      "Score out of  156 analogies: 0.07051282051282051\n",
      "Relation id: 5\n",
      "Relation example: நாய் நாய்க்குட்டி\n",
      "Score out of  8 analogies: 0.0\n",
      "Relation id: 9\n",
      "Relation example: தூய்மையான தூய்மையற்ற\n",
      "Score out of  12 analogies: 0.0\n",
      "Relation id: 10\n",
      "Relation example: அவள் அவளை\n"
     ]
    },
    {
     "ename": "KeyboardInterrupt",
     "evalue": "",
     "output_type": "error",
     "traceback": [
      "\u001b[0;31m---------------------------------------------------------------------------\u001b[0m",
      "\u001b[0;31mKeyboardInterrupt\u001b[0m                         Traceback (most recent call last)",
      "\u001b[0;32m<ipython-input-45-70564e4e726d>\u001b[0m in \u001b[0;36m<module>\u001b[0;34m\u001b[0m\n\u001b[0;32m----> 1\u001b[0;31m \u001b[0meval_on_analogy_dset\u001b[0m\u001b[0;34m(\u001b[0m\u001b[0mvanilla_input\u001b[0m\u001b[0;34m,\u001b[0m \u001b[0mtrainsub\u001b[0m\u001b[0;34m,\u001b[0m \u001b[0;36m10\u001b[0m\u001b[0;34m)\u001b[0m\u001b[0;34m\u001b[0m\u001b[0m\n\u001b[0m",
      "\u001b[0;32m~/nlp_project/tamil-embeddings/fastText/evaluation.py\u001b[0m in \u001b[0;36meval_on_analogy_dset\u001b[0;34m(model, dset, topn)\u001b[0m\n\u001b[1;32m     11\u001b[0m         \u001b[0;32mfor\u001b[0m \u001b[0mrect\u001b[0m \u001b[0;32min\u001b[0m \u001b[0mrel\u001b[0m\u001b[0;34m:\u001b[0m\u001b[0;34m\u001b[0m\u001b[0m\n\u001b[1;32m     12\u001b[0m             \u001b[0;32mfor\u001b[0m \u001b[0mt\u001b[0m \u001b[0;32min\u001b[0m \u001b[0mrange\u001b[0m\u001b[0;34m(\u001b[0m\u001b[0;36m4\u001b[0m\u001b[0;34m)\u001b[0m\u001b[0;34m:\u001b[0m\u001b[0;34m\u001b[0m\u001b[0m\n\u001b[0;32m---> 13\u001b[0;31m                 \u001b[0mguesses\u001b[0m \u001b[0;34m=\u001b[0m \u001b[0mmodel\u001b[0m\u001b[0;34m.\u001b[0m\u001b[0mmost_similar\u001b[0m\u001b[0;34m(\u001b[0m\u001b[0mpositive\u001b[0m\u001b[0;34m=\u001b[0m\u001b[0;34m[\u001b[0m\u001b[0mrect\u001b[0m\u001b[0;34m[\u001b[0m\u001b[0;34m(\u001b[0m\u001b[0mt\u001b[0m\u001b[0;34m+\u001b[0m\u001b[0;36m1\u001b[0m\u001b[0;34m)\u001b[0m\u001b[0;34m%\u001b[0m\u001b[0;36m4\u001b[0m\u001b[0;34m]\u001b[0m\u001b[0;34m,\u001b[0m \u001b[0mrect\u001b[0m\u001b[0;34m[\u001b[0m\u001b[0;34m(\u001b[0m\u001b[0mt\u001b[0m\u001b[0;34m+\u001b[0m\u001b[0;36m3\u001b[0m\u001b[0;34m)\u001b[0m\u001b[0;34m%\u001b[0m\u001b[0;36m4\u001b[0m\u001b[0;34m]\u001b[0m\u001b[0;34m]\u001b[0m\u001b[0;34m,\u001b[0m \u001b[0mnegative\u001b[0m\u001b[0;34m=\u001b[0m\u001b[0;34m[\u001b[0m\u001b[0mrect\u001b[0m\u001b[0;34m[\u001b[0m\u001b[0;34m(\u001b[0m\u001b[0mt\u001b[0m\u001b[0;34m+\u001b[0m\u001b[0;36m2\u001b[0m\u001b[0;34m)\u001b[0m\u001b[0;34m%\u001b[0m\u001b[0;36m4\u001b[0m\u001b[0;34m]\u001b[0m\u001b[0;34m]\u001b[0m\u001b[0;34m,\u001b[0m \u001b[0mtopn\u001b[0m\u001b[0;34m=\u001b[0m\u001b[0mtopn\u001b[0m\u001b[0;34m)\u001b[0m\u001b[0;34m\u001b[0m\u001b[0m\n\u001b[0m\u001b[1;32m     14\u001b[0m                 \u001b[0mnum_analogies\u001b[0m \u001b[0;34m+=\u001b[0m \u001b[0;36m1\u001b[0m\u001b[0;34m\u001b[0m\u001b[0m\n\u001b[1;32m     15\u001b[0m                 \u001b[0;32mfor\u001b[0m \u001b[0mguess\u001b[0m \u001b[0;32min\u001b[0m \u001b[0mguesses\u001b[0m\u001b[0;34m:\u001b[0m\u001b[0;34m\u001b[0m\u001b[0m\n",
      "\u001b[0;32m/Library/Frameworks/Python.framework/Versions/3.6/lib/python3.6/site-packages/gensim/models/keyedvectors.py\u001b[0m in \u001b[0;36mmost_similar\u001b[0;34m(self, positive, negative, topn, restrict_vocab, indexer)\u001b[0m\n\u001b[1;32m    562\u001b[0m \u001b[0;34m\u001b[0m\u001b[0m\n\u001b[1;32m    563\u001b[0m         \u001b[0mlimited\u001b[0m \u001b[0;34m=\u001b[0m \u001b[0mself\u001b[0m\u001b[0;34m.\u001b[0m\u001b[0mvectors_norm\u001b[0m \u001b[0;32mif\u001b[0m \u001b[0mrestrict_vocab\u001b[0m \u001b[0;32mis\u001b[0m \u001b[0;32mNone\u001b[0m \u001b[0;32melse\u001b[0m \u001b[0mself\u001b[0m\u001b[0;34m.\u001b[0m\u001b[0mvectors_norm\u001b[0m\u001b[0;34m[\u001b[0m\u001b[0;34m:\u001b[0m\u001b[0mrestrict_vocab\u001b[0m\u001b[0;34m]\u001b[0m\u001b[0;34m\u001b[0m\u001b[0m\n\u001b[0;32m--> 564\u001b[0;31m         \u001b[0mdists\u001b[0m \u001b[0;34m=\u001b[0m \u001b[0mdot\u001b[0m\u001b[0;34m(\u001b[0m\u001b[0mlimited\u001b[0m\u001b[0;34m,\u001b[0m \u001b[0mmean\u001b[0m\u001b[0;34m)\u001b[0m\u001b[0;34m\u001b[0m\u001b[0m\n\u001b[0m\u001b[1;32m    565\u001b[0m         \u001b[0;32mif\u001b[0m \u001b[0;32mnot\u001b[0m \u001b[0mtopn\u001b[0m\u001b[0;34m:\u001b[0m\u001b[0;34m\u001b[0m\u001b[0m\n\u001b[1;32m    566\u001b[0m             \u001b[0;32mreturn\u001b[0m \u001b[0mdists\u001b[0m\u001b[0;34m\u001b[0m\u001b[0m\n",
      "\u001b[0;32m<__array_function__ internals>\u001b[0m in \u001b[0;36mdot\u001b[0;34m(*args, **kwargs)\u001b[0m\n",
      "\u001b[0;31mKeyboardInterrupt\u001b[0m: "
     ]
    }
   ],
   "source": [
    "eval_on_analogy_dset(vanilla_input, trainsub, 10)"
   ]
  },
  {
   "cell_type": "code",
   "execution_count": 46,
   "metadata": {},
   "outputs": [],
   "source": [
    "del trainsub, trainnonsub"
   ]
  },
  {
   "cell_type": "markdown",
   "metadata": {},
   "source": [
    "Fasttext_official"
   ]
  },
  {
   "cell_type": "code",
   "execution_count": 8,
   "metadata": {},
   "outputs": [],
   "source": [
    "wiki_ta = KeyedVectors.load_word2vec_format('models/wiki.ta/wiki.ta.vec')"
   ]
  },
  {
   "cell_type": "code",
   "execution_count": 10,
   "metadata": {},
   "outputs": [],
   "source": [
    "morph_input = KeyedVectors.load_word2vec_format('models/morpheme_skipgram_wholengrams/model.txt')"
   ]
  },
  {
   "cell_type": "code",
   "execution_count": 11,
   "metadata": {},
   "outputs": [
    {
     "name": "stderr",
     "output_type": "stream",
     "text": [
      "/Library/Frameworks/Python.framework/Versions/3.6/lib/python3.6/site-packages/ipykernel_launcher.py:2: DeprecationWarning: Call to deprecated `wv` (Attribute will be removed in 4.0.0, use self instead).\n",
      "  \n"
     ]
    }
   ],
   "source": [
    "morph_input = remove_dummy_token(morph_input)"
   ]
  },
  {
   "cell_type": "code",
   "execution_count": 20,
   "metadata": {},
   "outputs": [],
   "source": [
    "# step 1: clear out any vocab in wiki_ta that isn't in morph_input\n",
    "# along the way, check if the reverse inclusion holds...\n",
    "# i.e. will trimming give us exactly the same vocab?\n",
    "\n",
    "wiki_ta_trimmed = KeyedVectors(300)\n",
    "\n",
    "wordlist = []\n",
    "weights = []\n",
    "bad_indices = []\n",
    "for i, word in enumerate(morph_input.vocab):\n",
    "    if word in wiki_ta.vocab:\n",
    "        wordlist.append(word)\n",
    "        weights.append(wiki_ta.get_vector(word))\n",
    "    else:\n",
    "        bad_indices.append(i)"
   ]
  },
  {
   "cell_type": "code",
   "execution_count": 21,
   "metadata": {},
   "outputs": [
    {
     "data": {
      "text/plain": [
       "181218"
      ]
     },
     "execution_count": 21,
     "metadata": {},
     "output_type": "execute_result"
    }
   ],
   "source": [
    "len(wordlist)"
   ]
  },
  {
   "cell_type": "code",
   "execution_count": 24,
   "metadata": {},
   "outputs": [
    {
     "data": {
      "image/png": "[encoded data removed]",
      "text/plain": [
       "<Figure size 432x288 with 1 Axes>"
      ]
     },
     "metadata": {
      "needs_background": "light"
     },
     "output_type": "display_data"
    }
   ],
   "source": [
    "import matplotlib.pyplot as plt\n",
    "plt.hist(bad_indices)\n",
    "plt.show()"
   ]
  },
  {
   "cell_type": "code",
   "execution_count": 27,
   "metadata": {},
   "outputs": [
    {
     "data": {
      "text/plain": [
       "(181218, 300)"
      ]
     },
     "execution_count": 27,
     "metadata": {},
     "output_type": "execute_result"
    }
   ],
   "source": [
    "weight_matrix = np.vstack(weights)\n",
    "weight_matrix.shape"
   ]
  },
  {
   "cell_type": "code",
   "execution_count": 28,
   "metadata": {},
   "outputs": [],
   "source": [
    "wiki_ta_trimmed.add(wordlist, weight_matrix)"
   ]
  },
  {
   "cell_type": "code",
   "execution_count": null,
   "metadata": {},
   "outputs": [],
   "source": [
    "# step 2: check if the analogy dataset still has all the words in fasttext_official, and that the final vocab size is comparable\n",
    "\n",
    "wiki_ta_trimmed.most_similar(positive=['adsfafadfsd'])\n",
    "\n",
    "# this crashes so we can evaluate directly"
   ]
  },
  {
   "cell_type": "code",
   "execution_count": 32,
   "metadata": {},
   "outputs": [
    {
     "name": "stdout",
     "output_type": "stream",
     "text": [
      "Relation id: 0\n",
      "Relation example: சகோதரர் சகோதரி\n",
      "Score out of  8 analogies: 0.875\n",
      "Relation id: 1\n",
      "Relation example: அரசாங்கம் அரசாங்கத்தின்\n",
      "Score out of  356 analogies: 0.7724719101123596\n",
      "Relation id: 3\n",
      "Relation example: பலாப்பழம் பலாமரம்\n",
      "Score out of  8 analogies: 1.0\n",
      "Relation id: 4\n",
      "Relation example: எரிக்க எரித்தல்\n",
      "Score out of  52 analogies: 0.7115384615384616\n",
      "Relation id: 5\n",
      "Relation example: நாய் நாய்க்குட்டி\n",
      "Score out of  4 analogies: 0.75\n",
      "Relation id: 9\n",
      "Relation example: நம்பிக்கை அவநம்பிக்கை\n",
      "Score out of  8 analogies: 1.0\n",
      "Relation id: 10\n",
      "Relation example: தலைவர் தலைவரை\n",
      "Score out of  136 analogies: 0.8308823529411765\n",
      "Relation id: 11\n",
      "Relation example: கோயில் கோவிலுக்கு\n",
      "Score out of  172 analogies: 0.6802325581395349\n",
      "Relation id: 12\n",
      "Relation example: மெதுவான மெதுவாக\n"
     ]
    },
    {
     "ename": "KeyError",
     "evalue": "\"word 'துரதிர்ஷ்டவசமான' not in vocabulary\"",
     "output_type": "error",
     "traceback": [
      "\u001b[0;31m---------------------------------------------------------------------------\u001b[0m",
      "\u001b[0;31mKeyError\u001b[0m                                  Traceback (most recent call last)",
      "\u001b[0;32m<ipython-input-32-fe7ed18d0349>\u001b[0m in \u001b[0;36m<module>\u001b[0;34m\u001b[0m\n\u001b[1;32m      1\u001b[0m \u001b[0;31m# step 3: evaluate\u001b[0m\u001b[0;34m\u001b[0m\u001b[0;34m\u001b[0m\u001b[0m\n\u001b[1;32m      2\u001b[0m \u001b[0;34m\u001b[0m\u001b[0m\n\u001b[0;32m----> 3\u001b[0;31m \u001b[0meval_on_analogy_dset\u001b[0m\u001b[0;34m(\u001b[0m\u001b[0mwiki_ta_trimmed\u001b[0m\u001b[0;34m,\u001b[0m \u001b[0mtestsub\u001b[0m\u001b[0;34m,\u001b[0m \u001b[0;36m10\u001b[0m\u001b[0;34m)\u001b[0m\u001b[0;34m\u001b[0m\u001b[0m\n\u001b[0m",
      "\u001b[0;32m~/nlp_project/tamil-embeddings/fastText/evaluation.py\u001b[0m in \u001b[0;36meval_on_analogy_dset\u001b[0;34m(model, dset, topn)\u001b[0m\n\u001b[1;32m     11\u001b[0m         \u001b[0;32mfor\u001b[0m \u001b[0mrect\u001b[0m \u001b[0;32min\u001b[0m \u001b[0mrel\u001b[0m\u001b[0;34m:\u001b[0m\u001b[0;34m\u001b[0m\u001b[0m\n\u001b[1;32m     12\u001b[0m             \u001b[0;32mfor\u001b[0m \u001b[0mt\u001b[0m \u001b[0;32min\u001b[0m \u001b[0mrange\u001b[0m\u001b[0;34m(\u001b[0m\u001b[0;36m4\u001b[0m\u001b[0;34m)\u001b[0m\u001b[0;34m:\u001b[0m\u001b[0;34m\u001b[0m\u001b[0m\n\u001b[0;32m---> 13\u001b[0;31m                 \u001b[0mguesses\u001b[0m \u001b[0;34m=\u001b[0m \u001b[0mmodel\u001b[0m\u001b[0;34m.\u001b[0m\u001b[0mmost_similar\u001b[0m\u001b[0;34m(\u001b[0m\u001b[0mpositive\u001b[0m\u001b[0;34m=\u001b[0m\u001b[0;34m[\u001b[0m\u001b[0mrect\u001b[0m\u001b[0;34m[\u001b[0m\u001b[0;34m(\u001b[0m\u001b[0mt\u001b[0m\u001b[0;34m+\u001b[0m\u001b[0;36m1\u001b[0m\u001b[0;34m)\u001b[0m\u001b[0;34m%\u001b[0m\u001b[0;36m4\u001b[0m\u001b[0;34m]\u001b[0m\u001b[0;34m,\u001b[0m \u001b[0mrect\u001b[0m\u001b[0;34m[\u001b[0m\u001b[0;34m(\u001b[0m\u001b[0mt\u001b[0m\u001b[0;34m+\u001b[0m\u001b[0;36m3\u001b[0m\u001b[0;34m)\u001b[0m\u001b[0;34m%\u001b[0m\u001b[0;36m4\u001b[0m\u001b[0;34m]\u001b[0m\u001b[0;34m]\u001b[0m\u001b[0;34m,\u001b[0m \u001b[0mnegative\u001b[0m\u001b[0;34m=\u001b[0m\u001b[0;34m[\u001b[0m\u001b[0mrect\u001b[0m\u001b[0;34m[\u001b[0m\u001b[0;34m(\u001b[0m\u001b[0mt\u001b[0m\u001b[0;34m+\u001b[0m\u001b[0;36m2\u001b[0m\u001b[0;34m)\u001b[0m\u001b[0;34m%\u001b[0m\u001b[0;36m4\u001b[0m\u001b[0;34m]\u001b[0m\u001b[0;34m]\u001b[0m\u001b[0;34m,\u001b[0m \u001b[0mtopn\u001b[0m\u001b[0;34m=\u001b[0m\u001b[0mtopn\u001b[0m\u001b[0;34m)\u001b[0m\u001b[0;34m\u001b[0m\u001b[0m\n\u001b[0m\u001b[1;32m     14\u001b[0m                 \u001b[0mnum_analogies\u001b[0m \u001b[0;34m+=\u001b[0m \u001b[0;36m1\u001b[0m\u001b[0;34m\u001b[0m\u001b[0m\n\u001b[1;32m     15\u001b[0m                 \u001b[0;32mfor\u001b[0m \u001b[0mguess\u001b[0m \u001b[0;32min\u001b[0m \u001b[0mguesses\u001b[0m\u001b[0;34m:\u001b[0m\u001b[0;34m\u001b[0m\u001b[0m\n",
      "\u001b[0;32m/Library/Frameworks/Python.framework/Versions/3.6/lib/python3.6/site-packages/gensim/models/keyedvectors.py\u001b[0m in \u001b[0;36mmost_similar\u001b[0;34m(self, positive, negative, topn, restrict_vocab, indexer)\u001b[0m\n\u001b[1;32m    551\u001b[0m                 \u001b[0mmean\u001b[0m\u001b[0;34m.\u001b[0m\u001b[0mappend\u001b[0m\u001b[0;34m(\u001b[0m\u001b[0mweight\u001b[0m \u001b[0;34m*\u001b[0m \u001b[0mword\u001b[0m\u001b[0;34m)\u001b[0m\u001b[0;34m\u001b[0m\u001b[0m\n\u001b[1;32m    552\u001b[0m             \u001b[0;32melse\u001b[0m\u001b[0;34m:\u001b[0m\u001b[0;34m\u001b[0m\u001b[0m\n\u001b[0;32m--> 553\u001b[0;31m                 \u001b[0mmean\u001b[0m\u001b[0;34m.\u001b[0m\u001b[0mappend\u001b[0m\u001b[0;34m(\u001b[0m\u001b[0mweight\u001b[0m \u001b[0;34m*\u001b[0m \u001b[0mself\u001b[0m\u001b[0;34m.\u001b[0m\u001b[0mword_vec\u001b[0m\u001b[0;34m(\u001b[0m\u001b[0mword\u001b[0m\u001b[0;34m,\u001b[0m \u001b[0muse_norm\u001b[0m\u001b[0;34m=\u001b[0m\u001b[0;32mTrue\u001b[0m\u001b[0;34m)\u001b[0m\u001b[0;34m)\u001b[0m\u001b[0;34m\u001b[0m\u001b[0m\n\u001b[0m\u001b[1;32m    554\u001b[0m                 \u001b[0;32mif\u001b[0m \u001b[0mword\u001b[0m \u001b[0;32min\u001b[0m \u001b[0mself\u001b[0m\u001b[0;34m.\u001b[0m\u001b[0mvocab\u001b[0m\u001b[0;34m:\u001b[0m\u001b[0;34m\u001b[0m\u001b[0m\n\u001b[1;32m    555\u001b[0m                     \u001b[0mall_words\u001b[0m\u001b[0;34m.\u001b[0m\u001b[0madd\u001b[0m\u001b[0;34m(\u001b[0m\u001b[0mself\u001b[0m\u001b[0;34m.\u001b[0m\u001b[0mvocab\u001b[0m\u001b[0;34m[\u001b[0m\u001b[0mword\u001b[0m\u001b[0;34m]\u001b[0m\u001b[0;34m.\u001b[0m\u001b[0mindex\u001b[0m\u001b[0;34m)\u001b[0m\u001b[0;34m\u001b[0m\u001b[0m\n",
      "\u001b[0;32m/Library/Frameworks/Python.framework/Versions/3.6/lib/python3.6/site-packages/gensim/models/keyedvectors.py\u001b[0m in \u001b[0;36mword_vec\u001b[0;34m(self, word, use_norm)\u001b[0m\n\u001b[1;32m    466\u001b[0m             \u001b[0;32mreturn\u001b[0m \u001b[0mresult\u001b[0m\u001b[0;34m\u001b[0m\u001b[0m\n\u001b[1;32m    467\u001b[0m         \u001b[0;32melse\u001b[0m\u001b[0;34m:\u001b[0m\u001b[0;34m\u001b[0m\u001b[0m\n\u001b[0;32m--> 468\u001b[0;31m             \u001b[0;32mraise\u001b[0m \u001b[0mKeyError\u001b[0m\u001b[0;34m(\u001b[0m\u001b[0;34m\"word '%s' not in vocabulary\"\u001b[0m \u001b[0;34m%\u001b[0m \u001b[0mword\u001b[0m\u001b[0;34m)\u001b[0m\u001b[0;34m\u001b[0m\u001b[0m\n\u001b[0m\u001b[1;32m    469\u001b[0m \u001b[0;34m\u001b[0m\u001b[0m\n\u001b[1;32m    470\u001b[0m     \u001b[0;32mdef\u001b[0m \u001b[0mget_vector\u001b[0m\u001b[0;34m(\u001b[0m\u001b[0mself\u001b[0m\u001b[0;34m,\u001b[0m \u001b[0mword\u001b[0m\u001b[0;34m)\u001b[0m\u001b[0;34m:\u001b[0m\u001b[0;34m\u001b[0m\u001b[0m\n",
      "\u001b[0;31mKeyError\u001b[0m: \"word 'துரதிர்ஷ்டவசமான' not in vocabulary\""
     ]
    }
   ],
   "source": [
    "# step 3: evaluate\n",
    "\n",
    "eval_on_analogy_dset(wiki_ta_trimmed, testsub, 10)"
   ]
  },
  {
   "cell_type": "code",
   "execution_count": null,
   "metadata": {},
   "outputs": [],
   "source": []
  }
 ],
 "metadata": {
  "kernelspec": {
   "display_name": "Python 3",
   "language": "python",
   "name": "python3"
  },
  "language_info": {
   "codemirror_mode": {
    "name": "ipython",
    "version": 3
   },
   "file_extension": ".py",
   "mimetype": "text/x-python",
   "name": "python",
   "nbconvert_exporter": "python",
   "pygments_lexer": "ipython3",
   "version": "3.6.4"
  }
 },
 "nbformat": 4,
 "nbformat_minor": 2
}
