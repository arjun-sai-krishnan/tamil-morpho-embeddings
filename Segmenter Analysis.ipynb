{
 "cells": [
  {
   "cell_type": "code",
   "execution_count": 3,
   "metadata": {},
   "outputs": [],
   "source": [
    "from tamil_segmenter_modified import stem\n",
    "import sys"
   ]
  },
  {
   "cell_type": "markdown",
   "metadata": {},
   "source": [
    "## Segmenter Analysis"
   ]
  },
  {
   "cell_type": "markdown",
   "metadata": {},
   "source": [
    "In this notebook, we provide some analysis of the segmenter used in this work. We modify a pre-existing [Tamil stemmer](https://github.com/rdamodharan/tamil-stemmer) into a rules-based morphological segmenter using [sbl2py](https://github.com/torfsen/sbl2py). Here we show some of the analysis and evaluation we carried out of our segmenter, and its distinct failure and success modes."
   ]
  },
  {
   "cell_type": "markdown",
   "metadata": {},
   "source": [
    "#### Basic Examples\n",
    "We just provide a small list of words here to show the output of the segmenter. The expected forms are written in a comment below."
   ]
  },
  {
   "cell_type": "code",
   "execution_count": 2,
   "metadata": {},
   "outputs": [
    {
     "name": "stdout",
     "output_type": "stream",
     "text": [
      "பாப்போம்\n",
      "('பா', [], ['tense_suffix_oom'])\n",
      "மரத்தின்\n",
      "('மரம்', [], ['vetrumai_suffix_in'])\n",
      "அக்காலம்\n",
      "('காலம்', ['pronoun_prefix_a'], [])\n",
      "அக்காலத்தின்\n",
      "('காலம்', ['pronoun_prefix_a'], ['vetrumai_suffix_in'])\n"
     ]
    }
   ],
   "source": [
    "# We just provide a small list of words here to show the output of the segmenter\n",
    "words = ['மரத்தின்', 'அக்காலம்', 'அக்காலத்தின்']\n",
    "for word in words:\n",
    "    print(word)\n",
    "    print(str(stem(word)))\n",
    "    \n",
    "# maram, kaalam, kaalam"
   ]
  },
  {
   "cell_type": "markdown",
   "metadata": {},
   "source": [
    "#### Success Modes of the Segmenter"
   ]
  },
  {
   "cell_type": "markdown",
   "metadata": {},
   "source": [
    "(1) Question prefix 'e'/('what/which'):"
   ]
  },
  {
   "cell_type": "code",
   "execution_count": 4,
   "metadata": {},
   "outputs": [
    {
     "name": "stdout",
     "output_type": "stream",
     "text": [
      "Our stemmer: ('காலம்', ['question_prefix'], [])\n"
     ]
    }
   ],
   "source": [
    "# GOOD\n",
    "word = 'எக்காலம்' # kaalam\n",
    "print(\"Our stemmer: \" + str(stem(word)))"
   ]
  },
  {
   "cell_type": "markdown",
   "metadata": {},
   "source": [
    "(2) Suffix 'um'/('also')"
   ]
  },
  {
   "cell_type": "code",
   "execution_count": 10,
   "metadata": {},
   "outputs": [
    {
     "name": "stdout",
     "output_type": "stream",
     "text": [
      "Our stemmer: ('அவன்', [], ['suffix_um'])\n"
     ]
    }
   ],
   "source": [
    "# GOOD\n",
    "word = 'அவனும்' # avan\n",
    "print(\"Our stemmer: \" + str(stem(word)))"
   ]
  },
  {
   "cell_type": "markdown",
   "metadata": {},
   "source": [
    "(3) Question suffix 'aa'/('is it?'):"
   ]
  },
  {
   "cell_type": "code",
   "execution_count": 8,
   "metadata": {},
   "outputs": [
    {
     "name": "stdout",
     "output_type": "stream",
     "text": [
      "Our stemmer: ('கண்ணன்', [], ['question_suffix_aa'])\n"
     ]
    }
   ],
   "source": [
    "# GOOD\n",
    "word = 'கண்ணனா' # kannan\n",
    "print(\"Our stemmer: \" + str(stem(word)))"
   ]
  },
  {
   "cell_type": "markdown",
   "metadata": {},
   "source": [
    "(4) Suffix 'idam'/('to, with')"
   ]
  },
  {
   "cell_type": "code",
   "execution_count": 4,
   "metadata": {},
   "outputs": [
    {
     "name": "stdout",
     "output_type": "stream",
     "text": [
      "Our stemmer: ('அவன்', [], ['common_suffix_idam'])\n"
     ]
    }
   ],
   "source": [
    "# GOOD\n",
    "word = 'அவனிடம்' # avan\n",
    "print(\"Our stemmer: \" + str(stem(word)))"
   ]
  },
  {
   "cell_type": "markdown",
   "metadata": {},
   "source": [
    "(5) Plural suffix 'gal'"
   ]
  },
  {
   "cell_type": "code",
   "execution_count": 5,
   "metadata": {},
   "outputs": [
    {
     "name": "stdout",
     "output_type": "stream",
     "text": [
      "Our stemmer: ('மரம்', [], ['plural_suffix'])\n"
     ]
    }
   ],
   "source": [
    "# GOOD\n",
    "\n",
    "word = 'மரங்கள்' # maram\n",
    "print(\"Our stemmer: \" + str(stem(word)))\n",
    "# note the velarization of the nasal in the plural: மரம்/மரங்கள்"
   ]
  },
  {
   "cell_type": "markdown",
   "metadata": {},
   "source": [
    "(6) Causative suffix 'pi'"
   ]
  },
  {
   "cell_type": "code",
   "execution_count": 14,
   "metadata": {},
   "outputs": [
    {
     "name": "stdout",
     "output_type": "stream",
     "text": [
      "Our stemmer: ('காண்', [], ['command_suffix_pi'])\n"
     ]
    }
   ],
   "source": [
    "# GOOD\n",
    "\n",
    "word = 'காண்பி' # kaan\n",
    "print(\"Our stemmer: \" + str(stem(word)))"
   ]
  },
  {
   "cell_type": "markdown",
   "metadata": {},
   "source": [
    "(7) Possible false morpheme 'manikkam' ('gem')"
   ]
  },
  {
   "cell_type": "code",
   "execution_count": 25,
   "metadata": {},
   "outputs": [
    {
     "name": "stdout",
     "output_type": "stream",
     "text": [
      "Our stemmer: ('மாணிக்கம்', [], [])\n"
     ]
    }
   ],
   "source": [
    "# GOOD\n",
    "\n",
    "word = 'மாணிக்கம்'\n",
    "print(\"Our stemmer: \" + str(stem(word)))"
   ]
  },
  {
   "cell_type": "markdown",
   "metadata": {},
   "source": [
    "(8) Complex form: past progressive plural 'cey' ('to do')"
   ]
  },
  {
   "cell_type": "code",
   "execution_count": 24,
   "metadata": {},
   "outputs": [
    {
     "name": "stdout",
     "output_type": "stream",
     "text": [
      "Our stemmer: ('செய்', [], ['tense_suffix_kondir', 'tense_suffix_aar'])\n"
     ]
    }
   ],
   "source": [
    "# GOOD\n",
    "\n",
    "word = 'செய்துக்கொண்டிர்ந்தார்'\n",
    "print(\"Our stemmer: \" + str(stem(word)))"
   ]
  },
  {
   "cell_type": "markdown",
   "metadata": {},
   "source": [
    "(9) Complex form: present progressive 'piri' ('to split')"
   ]
  },
  {
   "cell_type": "code",
   "execution_count": 15,
   "metadata": {},
   "outputs": [
    {
     "name": "stdout",
     "output_type": "stream",
     "text": [
      "Our stemmer: ('பிரி', [], ['tense_suffix_kinra', 'tense_suffix_na'])\n"
     ]
    }
   ],
   "source": [
    "# GOOD\n",
    "\n",
    "word = 'பிரிகின்றன' # piri\n",
    "print(\"Our stemmer: \" + str(stem(word)))"
   ]
  },
  {
   "cell_type": "markdown",
   "metadata": {},
   "source": [
    "(10) Complex form: Denominal present progressive plural 1st person question 'kaStappaDa' ('how much do we struggle/experience difficulty')"
   ]
  },
  {
   "cell_type": "code",
   "execution_count": 26,
   "metadata": {},
   "outputs": [
    {
     "name": "stdout",
     "output_type": "stream",
     "text": [
      "Our stemmer: ('கஷ்ட', ['question_prefix'], ['tense_suffix_padu', 'tense_suffix_kir', 'tense_suffix_oom'])\n"
     ]
    }
   ],
   "source": [
    "# GOOD\n",
    "\n",
    "word = 'எக்கஷ்டப்படுகிறோம்' # kashtam\n",
    "print(\"Our stemmer: \" + str(stem(word)))"
   ]
  },
  {
   "cell_type": "markdown",
   "metadata": {},
   "source": [
    "(11) Possible false morpheme 'uLLa'"
   ]
  },
  {
   "cell_type": "code",
   "execution_count": 30,
   "metadata": {},
   "outputs": [
    {
     "name": "stdout",
     "output_type": "stream",
     "text": [
      "Our stemmer: ('உள்ள', [], [])\n"
     ]
    }
   ],
   "source": [
    "# GOOD\n",
    "\n",
    "word = 'உள்ள' # ulla\n",
    "print(\"Our stemmer: \" + str(stem(word)))"
   ]
  },
  {
   "cell_type": "markdown",
   "metadata": {},
   "source": [
    "(12) Bare progressive morpheme 'konDiru'"
   ]
  },
  {
   "cell_type": "code",
   "execution_count": 7,
   "metadata": {},
   "outputs": [
    {
     "name": "stdout",
     "output_type": "stream",
     "text": [
      "Our stemmer: ('', [], ['tense_suffix_kondiru'])\n"
     ]
    }
   ],
   "source": [
    "# GOOD\n",
    "word = 'கொண்டிரு'\n",
    "print(\"Our stemmer: \" + str(stem(word)))"
   ]
  },
  {
   "cell_type": "markdown",
   "metadata": {},
   "source": [
    "(13) Bare root 'cey' ('to do')"
   ]
  },
  {
   "cell_type": "code",
   "execution_count": 34,
   "metadata": {},
   "outputs": [
    {
     "name": "stdout",
     "output_type": "stream",
     "text": [
      "Our stemmer: ('செய்', [], [])\n"
     ]
    }
   ],
   "source": [
    "# GOOD\n",
    "\n",
    "word = 'செய்' # sey\n",
    "print(\"Our stemmer: \" + str(stem(word)))"
   ]
  },
  {
   "cell_type": "markdown",
   "metadata": {},
   "source": [
    "(14) Possible false morpheme '-ppu' 'kalakalappu' (excitement)"
   ]
  },
  {
   "cell_type": "code",
   "execution_count": 37,
   "metadata": {},
   "outputs": [
    {
     "data": {
      "text/plain": [
       "('கலகலப்பு', [], [])"
      ]
     },
     "execution_count": 37,
     "metadata": {},
     "output_type": "execute_result"
    }
   ],
   "source": [
    "# GOOD\n",
    "stem('கலகலப்பு')"
   ]
  },
  {
   "cell_type": "markdown",
   "metadata": {},
   "source": [
    "(15) Instrumental case marker '-aal'"
   ]
  },
  {
   "cell_type": "code",
   "execution_count": 46,
   "metadata": {},
   "outputs": [
    {
     "data": {
      "text/plain": [
       "('அவன்', [], ['vetrumai_suffix_aal'])"
      ]
     },
     "execution_count": 46,
     "metadata": {},
     "output_type": "execute_result"
    }
   ],
   "source": [
    "# GOOD\n",
    "\n",
    "stem('அவனால்')"
   ]
  },
  {
   "cell_type": "markdown",
   "metadata": {},
   "source": [
    "(15) Noun stem 'kaSTam' ('difficulty')"
   ]
  },
  {
   "cell_type": "code",
   "execution_count": 50,
   "metadata": {},
   "outputs": [
    {
     "data": {
      "text/plain": [
       "('கஷ்டம்', [], [])"
      ]
     },
     "execution_count": 50,
     "metadata": {},
     "output_type": "execute_result"
    }
   ],
   "source": [
    "# GOOD\n",
    "\n",
    "stem('கஷ்டம்')"
   ]
  },
  {
   "cell_type": "markdown",
   "metadata": {},
   "source": [
    "(16) Complex form: Denominal present progressive plural 1st person 'kaStappaDa' ('to struggle/experience difficulty')"
   ]
  },
  {
   "cell_type": "code",
   "execution_count": 51,
   "metadata": {},
   "outputs": [
    {
     "data": {
      "text/plain": [
       "('கஷ்ட', [], ['tense_suffix_padu', 'tense_suffix_kir', 'tense_suffix_oom'])"
      ]
     },
     "execution_count": 51,
     "metadata": {},
     "output_type": "execute_result"
    }
   ],
   "source": [
    "# GOOD (some issues of polysemy with the morpheme 'padu')\n",
    "\n",
    "stem('கஷ்டப்படுகிறோம்')"
   ]
  },
  {
   "cell_type": "markdown",
   "metadata": {},
   "source": [
    "(17) Non-segmentable stem 'makal' ('daughter')"
   ]
  },
  {
   "cell_type": "code",
   "execution_count": 55,
   "metadata": {},
   "outputs": [
    {
     "data": {
      "text/plain": [
       "('மகள்', [], [])"
      ]
     },
     "execution_count": 55,
     "metadata": {},
     "output_type": "execute_result"
    }
   ],
   "source": [
    "# GOOD\n",
    "\n",
    "stem('மகள்')"
   ]
  },
  {
   "cell_type": "markdown",
   "metadata": {},
   "source": [
    "(18) Non-segmentable stem 'arivu' ('knowledge')"
   ]
  },
  {
   "cell_type": "code",
   "execution_count": 38,
   "metadata": {},
   "outputs": [
    {
     "name": "stdout",
     "output_type": "stream",
     "text": [
      "Our stemmer: ('அறிவு', [], [])\n"
     ]
    }
   ],
   "source": [
    "# GOOD\n",
    "\n",
    "word = 'அறிவு'\n",
    "print(\"Our stemmer: \" + str(stem(word)))"
   ]
  },
  {
   "cell_type": "markdown",
   "metadata": {},
   "source": [
    "(19) Bare root 'kAppiDu' ('to save/protect')"
   ]
  },
  {
   "cell_type": "code",
   "execution_count": 67,
   "metadata": {},
   "outputs": [
    {
     "data": {
      "text/plain": [
       "('சாப்பிடு', [], [])"
      ]
     },
     "execution_count": 67,
     "metadata": {},
     "output_type": "execute_result"
    }
   ],
   "source": [
    "# GOOD\n",
    "\n",
    "stem('சாப்பிடு')"
   ]
  },
  {
   "cell_type": "markdown",
   "metadata": {},
   "source": [
    "(20) Gerund (having VER-ed) 'amai' ('to be')"
   ]
  },
  {
   "cell_type": "code",
   "execution_count": 73,
   "metadata": {},
   "outputs": [
    {
     "data": {
      "text/plain": [
       "('அமை', [], ['vetrumai_suffix_thu'])"
      ]
     },
     "execution_count": 73,
     "metadata": {},
     "output_type": "execute_result"
    }
   ],
   "source": [
    "# GOOD\n",
    "\n",
    "stem('அமைத்து')"
   ]
  },
  {
   "cell_type": "markdown",
   "metadata": {},
   "source": [
    "(21) Noun to adverb 'manithan' ('person')"
   ]
  },
  {
   "cell_type": "code",
   "execution_count": 80,
   "metadata": {},
   "outputs": [
    {
     "data": {
      "text/plain": [
       "('மனிதன்', [], ['vetrumai_suffix_aaka'])"
      ]
     },
     "execution_count": 80,
     "metadata": {},
     "output_type": "execute_result"
    }
   ],
   "source": [
    "# GOOD\n",
    "\n",
    "stem('மனிதனாக') # manithan"
   ]
  },
  {
   "cell_type": "markdown",
   "metadata": {},
   "source": [
    "(22) Possibly ambiguous stem 'katti' ('knife') + instrumental case "
   ]
  },
  {
   "cell_type": "code",
   "execution_count": 86,
   "metadata": {},
   "outputs": [
    {
     "data": {
      "text/plain": [
       "('கத்தி', [], ['vetrumai_suffix_aal'])"
      ]
     },
     "execution_count": 86,
     "metadata": {},
     "output_type": "execute_result"
    }
   ],
   "source": [
    "# GOOD\n",
    "\n",
    "stem('கத்தியால்') # kaththi"
   ]
  },
  {
   "cell_type": "markdown",
   "metadata": {},
   "source": [
    "(23) Possibly ambiguous stem 'kai' ('hand') + instrumental case "
   ]
  },
  {
   "cell_type": "code",
   "execution_count": 87,
   "metadata": {},
   "outputs": [
    {
     "data": {
      "text/plain": [
       "('கை', [], ['vetrumai_suffix_aal'])"
      ]
     },
     "execution_count": 87,
     "metadata": {},
     "output_type": "execute_result"
    }
   ],
   "source": [
    "# GOOD\n",
    "\n",
    "stem('கையால்') # kai"
   ]
  },
  {
   "cell_type": "markdown",
   "metadata": {},
   "source": [
    "(24) Passive voice + verb 'ezhuda' ('write')"
   ]
  },
  {
   "cell_type": "code",
   "execution_count": 89,
   "metadata": {},
   "outputs": [
    {
     "data": {
      "text/plain": [
       "('எழுத', [], ['common_suffix_pattathu'])"
      ]
     },
     "execution_count": 89,
     "metadata": {},
     "output_type": "execute_result"
    }
   ],
   "source": [
    "# GOOD\n",
    "\n",
    "stem('எழுதப்பட்டது')"
   ]
  },
  {
   "cell_type": "markdown",
   "metadata": {},
   "source": [
    "(24) Verb 'cey' ('do') + aspectual verb 'vai' + past 3rd person plural"
   ]
  },
  {
   "cell_type": "code",
   "execution_count": 95,
   "metadata": {},
   "outputs": [
    {
     "data": {
      "text/plain": [
       "('செய்', [], ['tense_suffix_thu', 'tense_suffix_vai', 'tense_suffix_aar'])"
      ]
     },
     "execution_count": 95,
     "metadata": {},
     "output_type": "execute_result"
    }
   ],
   "source": [
    "# GOOD\n",
    "\n",
    "stem('செய்துவைத்தார்')"
   ]
  },
  {
   "cell_type": "markdown",
   "metadata": {},
   "source": [
    "(25) Possibly ambiguous stem 'pATTi' ('grandma') "
   ]
  },
  {
   "cell_type": "code",
   "execution_count": 10,
   "metadata": {},
   "outputs": [
    {
     "data": {
      "text/plain": [
       "('பாட்டி', [], [])"
      ]
     },
     "execution_count": 10,
     "metadata": {},
     "output_type": "execute_result"
    }
   ],
   "source": [
    "# GOOD\n",
    "# Resembles the gerund from a hypothetical verb 'pATTa'\n",
    "stem('பாட்டி')"
   ]
  },
  {
   "cell_type": "markdown",
   "metadata": {},
   "source": [
    "#### Failure Modes of the Segmenter"
   ]
  },
  {
   "cell_type": "markdown",
   "metadata": {},
   "source": [
    "(26) Compare to (1) — 'எக்காளம்' meaning trumpet falsely resembles an interrogative statement."
   ]
  },
  {
   "cell_type": "code",
   "execution_count": 5,
   "metadata": {
    "scrolled": true
   },
   "outputs": [
    {
     "name": "stdout",
     "output_type": "stream",
     "text": [
      "Our stemmer: ('காளம்', ['question_prefix'], [])\n"
     ]
    }
   ],
   "source": [
    "# BAD (false morpheme)\n",
    "\n",
    "word = 'எக்காளம்' # ekkaalam (trumpet)\n",
    "print(\"Our stemmer: \" + str(stem(word)))"
   ]
  },
  {
   "cell_type": "markdown",
   "metadata": {},
   "source": [
    "(27) Stem 'avan' incorrectly broken/Negation only taken by 'A' in'illA'"
   ]
  },
  {
   "cell_type": "code",
   "execution_count": 11,
   "metadata": {},
   "outputs": [
    {
     "name": "stdout",
     "output_type": "stream",
     "text": [
      "Our stemmer: ('அவனில்', [], ['tense_suffix_aa', 'tense_suffix_tha'])\n"
     ]
    }
   ],
   "source": [
    "# BAD (incorrectly split morphemes)\n",
    "\n",
    "word = 'அவனில்லாத' # avan # BUG HERE\n",
    "print(\"Our stemmer: \" + str(stem(word)))"
   ]
  },
  {
   "cell_type": "markdown",
   "metadata": {},
   "source": [
    "(28) Compare to (1) — word 'eppadi'('how') is broken into question prefix 'e' and 'padi' ('step/stair')."
   ]
  },
  {
   "cell_type": "code",
   "execution_count": 7,
   "metadata": {},
   "outputs": [
    {
     "name": "stdout",
     "output_type": "stream",
     "text": [
      "Our stemmer: ('படி', ['question_prefix'], [])\n"
     ]
    }
   ],
   "source": [
    "# BAD (false morpheme)\n",
    "\n",
    "word = 'எப்படி' # eppadi\n",
    "print(\"Our stemmer: \" + str(stem(word)))"
   ]
  },
  {
   "cell_type": "markdown",
   "metadata": {},
   "source": [
    "(29) False morpheme: 'mayil' ('peacock') is broken into 'may' and '-il' (locative suffix)"
   ]
  },
  {
   "cell_type": "code",
   "execution_count": 17,
   "metadata": {},
   "outputs": [
    {
     "name": "stdout",
     "output_type": "stream",
     "text": [
      "Our stemmer: ('மய்', [], ['vetrumai_suffix_il'])\n"
     ]
    }
   ],
   "source": [
    "# BAD (false morpheme)\n",
    "\n",
    "word = 'மயில்' # mayil\n",
    "print(\"Our stemmer: \" + str(stem(word)))"
   ]
  },
  {
   "cell_type": "code",
   "execution_count": 19,
   "metadata": {},
   "outputs": [
    {
     "name": "stdout",
     "output_type": "stream",
     "text": [
      "Our stemmer: ('புய்', [], ['vetrumai_suffix_l'])\n"
     ]
    }
   ],
   "source": [
    "# BAD (false morpheme)\n",
    "\n",
    "word = 'புயல்' # puyal\n",
    "print(\"Our stemmer: \" + str(stem(word)))"
   ]
  },
  {
   "cell_type": "code",
   "execution_count": null,
   "metadata": {},
   "outputs": [],
   "source": [
    "# BAD (false morpheme)\n",
    "\n",
    "word = 'வெயில்' # veyil\n",
    "print(\"Our stemmer: \" + str(stem(word)))"
   ]
  },
  {
   "cell_type": "markdown",
   "metadata": {},
   "source": [
    "(30) Past participle suffix not identified"
   ]
  },
  {
   "cell_type": "code",
   "execution_count": 75,
   "metadata": {},
   "outputs": [
    {
     "data": {
      "text/plain": [
       "('ஆழ்', [], [])"
      ]
     },
     "execution_count": 75,
     "metadata": {},
     "output_type": "execute_result"
    }
   ],
   "source": [
    "# BAD\n",
    "\n",
    "stem('ஆழ்ந்த')"
   ]
  },
  {
   "cell_type": "markdown",
   "metadata": {},
   "source": [
    "(31) Eroded stem 'padutta' + incorrect morphemes"
   ]
  },
  {
   "cell_type": "code",
   "execution_count": 11,
   "metadata": {},
   "outputs": [
    {
     "name": "stdout",
     "output_type": "stream",
     "text": [
      "Our stemmer: ('ப்', [], ['tense_suffix_tum', 'vetrumai_suffix_l'])\n"
     ]
    }
   ],
   "source": [
    "# BAD (multiple reasons)\n",
    "\n",
    "word = 'படுத்தல்' # padu\n",
    "print(\"Our stemmer: \" + str(stem(word)))"
   ]
  },
  {
   "cell_type": "markdown",
   "metadata": {},
   "source": [
    "(32) Incorrect sequence of morphemes (for word meaning 'which types')"
   ]
  },
  {
   "cell_type": "code",
   "execution_count": 27,
   "metadata": {},
   "outputs": [
    {
     "data": {
      "text/plain": [
       "('தகை', ['question_prefix'], ['vetrumai_suffix_thu'])"
      ]
     },
     "execution_count": 27,
     "metadata": {},
     "output_type": "execute_result"
    }
   ],
   "source": [
    "# BAD (false morpheme)\n",
    "\n",
    "stem('எத்தகையது')"
   ]
  },
  {
   "cell_type": "markdown",
   "metadata": {},
   "source": [
    "(33) Unable to break up serial verb 'paNNimuDi' into 'paNNi' + 'muDi'"
   ]
  },
  {
   "cell_type": "code",
   "execution_count": 16,
   "metadata": {},
   "outputs": [
    {
     "name": "stdout",
     "output_type": "stream",
     "text": [
      "Our stemmer: ('பண்ணிமுடி', [], ['tense_suffix_tha', 'tense_suffix_var', 'plural_suffix'])\n"
     ]
    }
   ],
   "source": [
    "# BAD (incorrect stem)\n",
    "\n",
    "word = 'பண்ணிமுடித்தவர்கள்'\n",
    "print(\"Our stemmer: \" + str(stem(word)))"
   ]
  },
  {
   "cell_type": "markdown",
   "metadata": {},
   "source": [
    "(34) 'Kuzhal' ('flute') broken into 'kuzh' + 'al'"
   ]
  },
  {
   "cell_type": "code",
   "execution_count": 22,
   "metadata": {},
   "outputs": [
    {
     "name": "stdout",
     "output_type": "stream",
     "text": [
      "Our stemmer: ('குழ்', [], ['vetrumai_suffix_l'])\n"
     ]
    }
   ],
   "source": [
    "# BAD (false morpheme)\n",
    "\n",
    "word = 'குழல்'\n",
    "print(\"Our stemmer: \" + str(stem(word)))"
   ]
  },
  {
   "cell_type": "markdown",
   "metadata": {},
   "source": [
    "(35) Stem 'athu': irregular sandhi form misidentified"
   ]
  },
  {
   "cell_type": "code",
   "execution_count": 31,
   "metadata": {},
   "outputs": [
    {
     "data": {
      "text/plain": [
       "('அதன்', [], ['common_suffix_udai'])"
      ]
     },
     "execution_count": 31,
     "metadata": {},
     "output_type": "execute_result"
    }
   ],
   "source": [
    "# BAD (incorrect stem)\n",
    "\n",
    "stem('அதனுடைய')"
   ]
  },
  {
   "cell_type": "markdown",
   "metadata": {},
   "source": [
    "(36) Stem 'athu': irregular sandhi form misidentified"
   ]
  },
  {
   "cell_type": "code",
   "execution_count": 39,
   "metadata": {},
   "outputs": [
    {
     "data": {
      "text/plain": [
       "('அத', [], ['tense_suffix_kku'])"
      ]
     },
     "execution_count": 39,
     "metadata": {},
     "output_type": "execute_result"
    }
   ],
   "source": [
    "# BAD (incorrect stem)\n",
    "\n",
    "stem('அதற்கு')"
   ]
  },
  {
   "cell_type": "markdown",
   "metadata": {},
   "source": [
    "(37) Unable to breakdown compound 'paDipparivu' into 'padippu' + 'arivu'"
   ]
  },
  {
   "cell_type": "code",
   "execution_count": 35,
   "metadata": {},
   "outputs": [
    {
     "name": "stdout",
     "output_type": "stream",
     "text": [
      "Our stemmer: ('படிப்பறிவு', [], [])\n"
     ]
    }
   ],
   "source": [
    "# BAD (two root problem)\n",
    "\n",
    "word = 'படிப்பறிவு'\n",
    "print(\"Our stemmer: \" + str(stem(word)))"
   ]
  },
  {
   "cell_type": "markdown",
   "metadata": {},
   "source": [
    "(38) Word 'maRRum' ('and') oversegmented into 'ma'"
   ]
  },
  {
   "cell_type": "code",
   "execution_count": 40,
   "metadata": {},
   "outputs": [
    {
     "data": {
      "text/plain": [
       "('ம', [], ['suffix_um'])"
      ]
     },
     "execution_count": 40,
     "metadata": {},
     "output_type": "execute_result"
    }
   ],
   "source": [
    "# BAD (false morpheme)\n",
    "\n",
    "stem('மற்றும்')"
   ]
  },
  {
   "cell_type": "markdown",
   "metadata": {},
   "source": [
    "(39) Complex form incorrectly segmented: correct suffix but root 'vara' ('come') misidentified and 'ntha' specifier missing"
   ]
  },
  {
   "cell_type": "code",
   "execution_count": 43,
   "metadata": {},
   "outputs": [
    {
     "name": "stdout",
     "output_type": "stream",
     "text": [
      "Our stemmer: ('வ', [], ['tense_suffix_var', 'plural_suffix', 'vetrumai_suffix_in'])\n"
     ]
    }
   ],
   "source": [
    "# BAD\n",
    "\n",
    "word = 'வந்தவர்களின்' # vantharvarkalin\n",
    "print(\"Our stemmer: \" + str(stem(word)))"
   ]
  },
  {
   "cell_type": "markdown",
   "metadata": {},
   "source": [
    "(40) Complex form incorrectly segmented: correct suffix but root 'tara' ('give') misidentified and 'ntha' specifier missing"
   ]
  },
  {
   "cell_type": "code",
   "execution_count": 48,
   "metadata": {},
   "outputs": [
    {
     "data": {
      "text/plain": [
       "('த', [], ['tense_suffix_var', 'plural_suffix'])"
      ]
     },
     "execution_count": 48,
     "metadata": {},
     "output_type": "execute_result"
    }
   ],
   "source": [
    "# BAD (misses the ntha morpheme)\n",
    "\n",
    "stem(\"தந்தவர்கள்\")"
   ]
  },
  {
   "cell_type": "markdown",
   "metadata": {},
   "source": [
    "(41) Irregular gerund of 'sappiDa' ('eat') not segmented"
   ]
  },
  {
   "cell_type": "code",
   "execution_count": 49,
   "metadata": {},
   "outputs": [
    {
     "data": {
      "text/plain": [
       "('சாப்பிட்டு', [], [])"
      ]
     },
     "execution_count": 49,
     "metadata": {},
     "output_type": "execute_result"
    }
   ],
   "source": [
    "# BAD (doesn't stem irregular forms)\n",
    "\n",
    "stem('சாப்பிட்டு')"
   ]
  },
  {
   "cell_type": "markdown",
   "metadata": {},
   "source": [
    "(42) Root misidentified in past progressive of 'colla' ('to tell')"
   ]
  },
  {
   "cell_type": "code",
   "execution_count": 57,
   "metadata": {},
   "outputs": [
    {
     "data": {
      "text/plain": [
       "('சொல்லி', [], ['tense_suffix_kondiru', 'tense_suffix_aar'])"
      ]
     },
     "execution_count": 57,
     "metadata": {},
     "output_type": "execute_result"
    }
   ],
   "source": [
    "# BAD (incorrect stem)\n",
    "\n",
    "stem('சொல்லிக்கொண்டிருந்தார்')"
   ]
  },
  {
   "cell_type": "markdown",
   "metadata": {},
   "source": [
    "(43) Unable to breakdown compound 'palAppazham' ('jackfruit') into 'palA' + 'pazham'"
   ]
  },
  {
   "cell_type": "code",
   "execution_count": 58,
   "metadata": {},
   "outputs": [
    {
     "data": {
      "text/plain": [
       "('பலாப்பழம்', [], [])"
      ]
     },
     "execution_count": 58,
     "metadata": {},
     "output_type": "execute_result"
    }
   ],
   "source": [
    "# BAD (multiple roots)\n",
    "\n",
    "stem('பலாப்பழம்')"
   ]
  },
  {
   "cell_type": "markdown",
   "metadata": {},
   "source": [
    "(44) Stem 'irukka' ('to be') oversegmented and eroded"
   ]
  },
  {
   "cell_type": "code",
   "execution_count": 59,
   "metadata": {},
   "outputs": [
    {
     "data": {
      "text/plain": [
       "('இர்', [], ['tense_suffix_ka'])"
      ]
     },
     "execution_count": 59,
     "metadata": {},
     "output_type": "execute_result"
    }
   ],
   "source": [
    "# BAD (incorrect stem)\n",
    "\n",
    "stem('இருக்க')"
   ]
  },
  {
   "cell_type": "markdown",
   "metadata": {},
   "source": [
    "(45) Complex form incorrectly segmented: correct suffix but root 'irukka' ('to be') misidentified and 'ntha' specifier missing"
   ]
  },
  {
   "cell_type": "code",
   "execution_count": 61,
   "metadata": {},
   "outputs": [
    {
     "data": {
      "text/plain": [
       "('இரு', [], ['tense_suffix_var', 'plural_suffix', 'vetrumai_suffix_in'])"
      ]
     },
     "execution_count": 61,
     "metadata": {},
     "output_type": "execute_result"
    }
   ],
   "source": [
    "# BAD\n",
    "\n",
    "stem('இருந்தவர்களின்')"
   ]
  },
  {
   "cell_type": "markdown",
   "metadata": {},
   "source": [
    "(46) Root 'Varuthapadu' oversegmented into 'varu' (with false morpheme 'tha')"
   ]
  },
  {
   "cell_type": "code",
   "execution_count": 65,
   "metadata": {},
   "outputs": [
    {
     "data": {
      "text/plain": [
       "('வரு', [], ['tense_suffix_tha', 'tense_suffix_padu', 'tense_suffix_tha'])"
      ]
     },
     "execution_count": 65,
     "metadata": {},
     "output_type": "execute_result"
    }
   ],
   "source": [
    "# BAD (false morphemes)\n",
    "\n",
    "stem('வருத்தப்படுத்த')"
   ]
  },
  {
   "cell_type": "markdown",
   "metadata": {},
   "source": [
    "(47) Complex form incorrectly segmented: correct suffix but root 'sAppiDa' ('to eat') not separated from specifier"
   ]
  },
  {
   "cell_type": "code",
   "execution_count": 66,
   "metadata": {},
   "outputs": [
    {
     "data": {
      "text/plain": [
       "('சாப்பிட்ட', [], ['tense_suffix_var', 'plural_suffix'])"
      ]
     },
     "execution_count": 66,
     "metadata": {},
     "output_type": "execute_result"
    }
   ],
   "source": [
    "# BAD (doesn't stem all the way)\n",
    "\n",
    "stem('சாப்பிட்டவர்கள்')"
   ]
  },
  {
   "cell_type": "markdown",
   "metadata": {},
   "source": [
    "(48) Complex form incorrectly segmented: correct suffix but root 'po' ('to go') not separated from specifier"
   ]
  },
  {
   "cell_type": "code",
   "execution_count": 68,
   "metadata": {},
   "outputs": [
    {
     "data": {
      "text/plain": [
       "('போன', [], ['tense_suffix_var', 'plural_suffix'])"
      ]
     },
     "execution_count": 68,
     "metadata": {},
     "output_type": "execute_result"
    }
   ],
   "source": [
    "# BAD (stem not normalised in tense)\n",
    "\n",
    "stem('போனவர்கள்')"
   ]
  },
  {
   "cell_type": "markdown",
   "metadata": {},
   "source": [
    "(47) Specifier 'ya' not listed in suffixes"
   ]
  },
  {
   "cell_type": "code",
   "execution_count": 69,
   "metadata": {},
   "outputs": [
    {
     "data": {
      "text/plain": [
       "('போகி', [], [])"
      ]
     },
     "execution_count": 69,
     "metadata": {},
     "output_type": "execute_result"
    }
   ],
   "source": [
    "# BAD (just ignores a morpheme)\n",
    "\n",
    "stem('போகிய')"
   ]
  },
  {
   "cell_type": "markdown",
   "metadata": {},
   "source": [
    "(48) Specifier 'ntha' not listed in suffixes"
   ]
  },
  {
   "cell_type": "code",
   "execution_count": 71,
   "metadata": {},
   "outputs": [
    {
     "data": {
      "text/plain": [
       "('அமை', [], [])"
      ]
     },
     "execution_count": 71,
     "metadata": {},
     "output_type": "execute_result"
    }
   ],
   "source": [
    "# BAD (another ntha)\n",
    "\n",
    "stem('அமைந்த')"
   ]
  },
  {
   "cell_type": "markdown",
   "metadata": {},
   "source": [
    "(49) Aspectual verb 'vidu' included in root 'amai'"
   ]
  },
  {
   "cell_type": "code",
   "execution_count": 72,
   "metadata": {},
   "outputs": [
    {
     "data": {
      "text/plain": [
       "('அமைத்துவிடு', [], ['tense_suffix_aar'])"
      ]
     },
     "execution_count": 72,
     "metadata": {},
     "output_type": "execute_result"
    }
   ],
   "source": [
    "# BAD, doesn't go all the way\n",
    "\n",
    "stem('அமைத்துவிட்டார்')"
   ]
  },
  {
   "cell_type": "markdown",
   "metadata": {},
   "source": [
    "(50) '-kkaran' profession/agentive particle not segmented"
   ]
  },
  {
   "cell_type": "code",
   "execution_count": 76,
   "metadata": {},
   "outputs": [
    {
     "data": {
      "text/plain": [
       "('வேலைக்காரன்', [], [])"
      ]
     },
     "execution_count": 76,
     "metadata": {},
     "output_type": "execute_result"
    }
   ],
   "source": [
    "# BAD (irregular morphemes)\n",
    "\n",
    "stem('வேலைக்காரன்')"
   ]
  },
  {
   "cell_type": "markdown",
   "metadata": {},
   "source": [
    "(51) Root 'aNNA' ('brother') oversegmented"
   ]
  },
  {
   "cell_type": "code",
   "execution_count": 79,
   "metadata": {},
   "outputs": [
    {
     "data": {
      "text/plain": [
       "('அண்', [], ['tense_suffix_aa', 'vetrumai_suffix_ukkaaka'])"
      ]
     },
     "execution_count": 79,
     "metadata": {},
     "output_type": "execute_result"
    }
   ],
   "source": [
    "# BAD (stems too far)\n",
    "\n",
    "stem('அண்ணாவுக்காக') # BUG HERE also"
   ]
  },
  {
   "cell_type": "markdown",
   "metadata": {},
   "source": [
    "(52) Inanimate noun class form of ablative '-ilirunthu' ignored "
   ]
  },
  {
   "cell_type": "code",
   "execution_count": 88,
   "metadata": {},
   "outputs": [
    {
     "data": {
      "text/plain": [
       "('அதில்', [], ['vetrumai_suffix_irunthu'])"
      ]
     },
     "execution_count": 88,
     "metadata": {},
     "output_type": "execute_result"
    }
   ],
   "source": [
    "# BAD (wrong form of stem)\n",
    "\n",
    "stem('அதிலிருந்து')"
   ]
  },
  {
   "cell_type": "markdown",
   "metadata": {},
   "source": [
    "(53) Reference (24) — 'common_suffix_pattathu' used for past tense, while 'padu' for present."
   ]
  },
  {
   "cell_type": "code",
   "execution_count": 90,
   "metadata": {},
   "outputs": [
    {
     "data": {
      "text/plain": [
       "('எழுத', [], ['tense_suffix_padu', 'tense_suffix_kira', 'vetrumai_suffix_thu'])"
      ]
     },
     "execution_count": 90,
     "metadata": {},
     "output_type": "execute_result"
    }
   ],
   "source": [
    "# BAD (different morphemes used for different tenses)\n",
    "\n",
    "stem('எழுதப்படுகிறது')"
   ]
  },
  {
   "cell_type": "markdown",
   "metadata": {},
   "source": [
    "(54) Incorrect root for future tense verb."
   ]
  },
  {
   "cell_type": "code",
   "execution_count": 91,
   "metadata": {},
   "outputs": [
    {
     "data": {
      "text/plain": [
       "('எழுது', [], ['tense_suffix_aar'])"
      ]
     },
     "execution_count": 91,
     "metadata": {},
     "output_type": "execute_result"
    }
   ],
   "source": [
    "# BAD (stem is of the wrong form)\n",
    "\n",
    "stem('எழுதுவார்')"
   ]
  },
  {
   "cell_type": "markdown",
   "metadata": {},
   "source": [
    "(55) Incorrect stem for kinship term 'mAmA' + verbal prefix identified for noun"
   ]
  },
  {
   "cell_type": "code",
   "execution_count": 92,
   "metadata": {},
   "outputs": [
    {
     "data": {
      "text/plain": [
       "('மாம', [], ['tense_suffix_naar'])"
      ]
     },
     "execution_count": 92,
     "metadata": {},
     "output_type": "execute_result"
    }
   ],
   "source": [
    "# BAD (incorrect stem)\n",
    "\n",
    "stem('மாமனார்')"
   ]
  },
  {
   "cell_type": "markdown",
   "metadata": {},
   "source": [
    "(55) Incorrect verb root identified for past tense"
   ]
  },
  {
   "cell_type": "code",
   "execution_count": 93,
   "metadata": {},
   "outputs": [
    {
     "data": {
      "text/plain": [
       "('சொன்', [], ['tense_suffix_naar'])"
      ]
     },
     "execution_count": 93,
     "metadata": {},
     "output_type": "execute_result"
    }
   ],
   "source": [
    "# BAD (incorrect root)\n",
    "\n",
    "stem('சொன்னார்')"
   ]
  },
  {
   "cell_type": "markdown",
   "metadata": {},
   "source": [
    "(56) 'AvviDam' ('that place') broken into nonsense root based off overapplication of sandhi rules (and confusion of word 'iDam' with morpheme 'iDam')"
   ]
  },
  {
   "cell_type": "code",
   "execution_count": 18,
   "metadata": {},
   "outputs": [
    {
     "data": {
      "text/plain": [
       "('வ்', ['pronoun_prefix_a'], ['common_suffix_idam'])"
      ]
     },
     "execution_count": 18,
     "metadata": {},
     "output_type": "execute_result"
    }
   ],
   "source": [
    "# BAD\n",
    "\n",
    "stem('அவ்விடம்')"
   ]
  },
  {
   "cell_type": "markdown",
   "metadata": {},
   "source": [
    "(57) Complex form undersegmented (root 'kaTTa' ('to tie') left in gerund form)"
   ]
  },
  {
   "cell_type": "code",
   "execution_count": 97,
   "metadata": {},
   "outputs": [
    {
     "data": {
      "text/plain": [
       "('கட்டி', [], ['tense_suffix_var', 'plural_suffix'])"
      ]
     },
     "execution_count": 97,
     "metadata": {},
     "output_type": "execute_result"
    }
   ],
   "source": [
    "# BAD (bad stem)\n",
    "\n",
    "stem('கட்டியவர்கள்')"
   ]
  },
  {
   "cell_type": "markdown",
   "metadata": {},
   "source": [
    "(58) Complex form undersegmented (root 'pAda' ('to sing') left in gerund form)."
   ]
  },
  {
   "cell_type": "code",
   "execution_count": 19,
   "metadata": {},
   "outputs": [
    {
     "data": {
      "text/plain": [
       "('பாடி', [], ['tense_suffix_var', 'plural_suffix'])"
      ]
     },
     "execution_count": 19,
     "metadata": {},
     "output_type": "execute_result"
    }
   ],
   "source": [
    "# BAD (bad stem)\n",
    "\n",
    "stem('பாடியவர்கள்')"
   ]
  },
  {
   "cell_type": "markdown",
   "metadata": {},
   "source": [
    "(59) Stem 'paccai' ('green') oversegmented into false root with accusative ending '-ai'"
   ]
  },
  {
   "cell_type": "code",
   "execution_count": 20,
   "metadata": {},
   "outputs": [
    {
     "data": {
      "text/plain": [
       "('ப', [], ['vetrumai_suffix_ai'])"
      ]
     },
     "execution_count": 20,
     "metadata": {},
     "output_type": "execute_result"
    }
   ],
   "source": [
    "# BAD (false morpheme)\n",
    "\n",
    "stem('பச்சை')"
   ]
  },
  {
   "cell_type": "markdown",
   "metadata": {},
   "source": [
    "(60) Stem 'koTTAvi' ('yawn') oversegmented into nonsensical mix of negation and causative suffix with incorrect root"
   ]
  },
  {
   "cell_type": "code",
   "execution_count": 102,
   "metadata": {
    "scrolled": true
   },
   "outputs": [
    {
     "data": {
      "text/plain": [
       "('கொடு', [], ['tense_suffix_aa', 'command_suffix_vi'])"
      ]
     },
     "execution_count": 102,
     "metadata": {},
     "output_type": "execute_result"
    }
   ],
   "source": [
    "# BAD\n",
    "\n",
    "stem('கொட்டாவி')"
   ]
  },
  {
   "cell_type": "markdown",
   "metadata": {},
   "source": [
    "#### Examples from Dataset"
   ]
  },
  {
   "cell_type": "code",
   "execution_count": null,
   "metadata": {},
   "outputs": [],
   "source": []
  }
 ],
 "metadata": {
  "kernelspec": {
   "display_name": "Python 3",
   "language": "python",
   "name": "python3"
  },
  "language_info": {
   "codemirror_mode": {
    "name": "ipython",
    "version": 3
   },
   "file_extension": ".py",
   "mimetype": "text/x-python",
   "name": "python",
   "nbconvert_exporter": "python",
   "pygments_lexer": "ipython3",
   "version": "3.7.7"
  }
 },
 "nbformat": 4,
 "nbformat_minor": 2
}
