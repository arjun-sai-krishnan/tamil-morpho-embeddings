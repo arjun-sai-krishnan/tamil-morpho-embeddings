{
 "cells": [
  {
   "cell_type": "code",
   "execution_count": 1,
   "metadata": {},
   "outputs": [],
   "source": [
    "from evaluation.evaluation import *\n",
    "from evaluation.metaembeddings import *\n",
    "from evaluation.analogy_dataset import *"
   ]
  },
  {
   "cell_type": "code",
   "execution_count": 2,
   "metadata": {},
   "outputs": [],
   "source": [
    "import gensim\n",
    "from gensim.models import KeyedVectors"
   ]
  },
  {
   "cell_type": "code",
   "execution_count": null,
   "metadata": {},
   "outputs": [],
   "source": [
    "PATH_FULL = 'evaluation/analogies/full_dataset/'\n",
    "PATH_OOV_REMOVED = 'evaluation/analogies/dataset_oov_removed_wiki/'"
   ]
  },
  {
   "cell_type": "code",
   "execution_count": 3,
   "metadata": {},
   "outputs": [],
   "source": [
    "def remove_dummy_token(model):\n",
    "    X = model[model.wv.vocab][1:]\n",
    "    \n",
    "    wordlist = []\n",
    "    for i, word in enumerate(model.vocab):\n",
    "        if i == 0:\n",
    "            assert(word == '</s>')\n",
    "        else:\n",
    "            wordlist.append(word)\n",
    "            \n",
    "    newmodel = KeyedVectors(X.shape[1])\n",
    "    newmodel.add(wordlist, X)\n",
    "    return newmodel"
   ]
  },
  {
   "cell_type": "code",
   "execution_count": 4,
   "metadata": {},
   "outputs": [],
   "source": [
    "# loading test set\n",
    "\n",
    "testsub = extract_analogy_dset(PATH_OOV_REMOVED + 'test_sub.txt')\n",
    "testnonsub = extract_analogy_dset(PATH_OOV_REMOVED + 'test_nonsub.txt')\n",
    "keys = extract_keys('evaluation/analogies/relation_key.txt')"
   ]
  },
  {
   "cell_type": "markdown",
   "metadata": {},
   "source": [
    "# Loading models, computing meta-embeddings"
   ]
  },
  {
   "cell_type": "code",
   "execution_count": null,
   "metadata": {},
   "outputs": [],
   "source": [
    "# MorphoSeg models\n",
    "ms_input = remove_dummy_token(KeyedVectors.load_word2vec_format('models/morphoseg/model.txt'))\n",
    "ms_output = remove_dummy_token(KeyedVectors.load_word2vec_format('models/morphoseg/context.txt'))\n",
    "\n",
    "# FastText models\n",
    "ft_input = remove_dummy_token(KeyedVectors.load_word2vec_format('models/fasttext/model.txt'))\n",
    "ft_output = remove_dummy_token(KeyedVectors.load_word2vec_format('models/fasttext/context.txt'))"
   ]
  },
  {
   "cell_type": "code",
   "execution_count": null,
   "metadata": {},
   "outputs": [],
   "source": [
    "def merge(model1, model2):\n",
    "    model_concat = concat(model1, model2)\n",
    "    model_reduced = dim_reduce(model_concat, 300)\n",
    "    del model_concat\n",
    "    return model_reduced"
   ]
  },
  {
   "cell_type": "code",
   "execution_count": null,
   "metadata": {},
   "outputs": [],
   "source": [
    "# two-way merges\n",
    "ms_merged = merge(ms_input, ms_output)\n",
    "ft_merged = merge(ft_input, ft_output)"
   ]
  },
  {
   "cell_type": "code",
   "execution_count": null,
   "metadata": {},
   "outputs": [],
   "source": [
    "# triple merge\n",
    "triple_merged = merge(ms_merged, ft_merged)\n",
    "triple_merged.save_word2vec_format('models/triplemerge.txt')"
   ]
  },
  {
   "cell_type": "markdown",
   "metadata": {},
   "source": [
    "# Evaluation on test set"
   ]
  },
  {
   "cell_type": "markdown",
   "metadata": {},
   "source": [
    "MorphoSeg, input"
   ]
  },
  {
   "cell_type": "code",
   "execution_count": null,
   "metadata": {},
   "outputs": [],
   "source": [
    "eval_on_analogy_dset(ms_input, testsub, 10, keys)"
   ]
  },
  {
   "cell_type": "code",
   "execution_count": null,
   "metadata": {},
   "outputs": [],
   "source": [
    "eval_on_analogy_dset(ms_input, testnonsub, 10, keys)"
   ]
  },
  {
   "cell_type": "markdown",
   "metadata": {},
   "source": [
    "MorphoSeg, output"
   ]
  },
  {
   "cell_type": "code",
   "execution_count": null,
   "metadata": {},
   "outputs": [],
   "source": [
    "eval_on_analogy_dset(ms_output, testsub, 10, keys)"
   ]
  },
  {
   "cell_type": "code",
   "execution_count": null,
   "metadata": {},
   "outputs": [],
   "source": [
    "eval_on_analogy_dset(ms_output, testnonsub, 10, keys)"
   ]
  },
  {
   "cell_type": "markdown",
   "metadata": {},
   "source": [
    "FastText, input"
   ]
  },
  {
   "cell_type": "code",
   "execution_count": null,
   "metadata": {},
   "outputs": [],
   "source": [
    "eval_on_analogy_dset(ft_input, testsub, 10, keys)"
   ]
  },
  {
   "cell_type": "code",
   "execution_count": null,
   "metadata": {},
   "outputs": [],
   "source": [
    "eval_on_analogy_dset(ft_input, testnonsub, 10, keys)"
   ]
  },
  {
   "cell_type": "markdown",
   "metadata": {},
   "source": [
    "FastText, output"
   ]
  },
  {
   "cell_type": "code",
   "execution_count": null,
   "metadata": {},
   "outputs": [],
   "source": [
    "eval_on_analogy_dset(ft_output, testsub, 10, keys)"
   ]
  },
  {
   "cell_type": "code",
   "execution_count": null,
   "metadata": {},
   "outputs": [],
   "source": [
    "eval_on_analogy_dset(ft_output, testnonsub, 10, keys)"
   ]
  },
  {
   "cell_type": "markdown",
   "metadata": {},
   "source": [
    "MorphoSeg, merged"
   ]
  },
  {
   "cell_type": "code",
   "execution_count": null,
   "metadata": {},
   "outputs": [],
   "source": [
    "eval_on_analogy_dset(ms_merged, testsub, 10, keys)"
   ]
  },
  {
   "cell_type": "code",
   "execution_count": null,
   "metadata": {},
   "outputs": [],
   "source": [
    "eval_on_analogy_dset(ms_merged, testnonsub, 10, keys)"
   ]
  },
  {
   "cell_type": "markdown",
   "metadata": {},
   "source": [
    "FastText, merged"
   ]
  },
  {
   "cell_type": "code",
   "execution_count": null,
   "metadata": {},
   "outputs": [],
   "source": [
    "eval_on_analogy_dset(ft_merged, testsub, 10, keys)"
   ]
  },
  {
   "cell_type": "code",
   "execution_count": null,
   "metadata": {},
   "outputs": [],
   "source": [
    "eval_on_analogy_dset(ft_merged, testnonsub, 10, keys)"
   ]
  },
  {
   "cell_type": "markdown",
   "metadata": {},
   "source": [
    "Triple merged"
   ]
  },
  {
   "cell_type": "code",
   "execution_count": null,
   "metadata": {},
   "outputs": [],
   "source": [
    "eval_on_analogy_dset(triple_merged, testsub, 10, keys)"
   ]
  },
  {
   "cell_type": "code",
   "execution_count": null,
   "metadata": {},
   "outputs": [],
   "source": [
    "eval_on_analogy_dset(triple_merged, testnonsub, 10, keys)"
   ]
  }
 ],
 "metadata": {
  "kernelspec": {
   "display_name": "Python 3",
   "language": "python",
   "name": "python3"
  },
  "language_info": {
   "codemirror_mode": {
    "name": "ipython",
    "version": 3
   },
   "file_extension": ".py",
   "mimetype": "text/x-python",
   "name": "python",
   "nbconvert_exporter": "python",
   "pygments_lexer": "ipython3",
   "version": "3.6.4"
  }
 },
 "nbformat": 4,
 "nbformat_minor": 2
}
